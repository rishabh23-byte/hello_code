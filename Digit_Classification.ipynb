{
  "nbformat": 4,
  "nbformat_minor": 0,
  "metadata": {
    "colab": {
      "provenance": [],
      "authorship_tag": "ABX9TyNChW1MqFoRqNJsJsPOy2Uz",
      "include_colab_link": true
    },
    "kernelspec": {
      "name": "python3",
      "display_name": "Python 3"
    },
    "language_info": {
      "name": "python"
    }
  },
  "cells": [
    {
      "cell_type": "markdown",
      "metadata": {
        "id": "view-in-github",
        "colab_type": "text"
      },
      "source": [
        "<a href=\"https://colab.research.google.com/github/rishabh23-byte/hello_code/blob/main/Digit_Classification.ipynb\" target=\"_parent\"><img src=\"https://colab.research.google.com/assets/colab-badge.svg\" alt=\"Open In Colab\"/></a>"
      ]
    },
    {
      "cell_type": "code",
      "execution_count": 1,
      "metadata": {
        "id": "pfYOq4gXVQ9n"
      },
      "outputs": [],
      "source": [
        "import numpy as np\n",
        "import matplotlib.pyplot as plt\n",
        "import seaborn as sns\n",
        "import cv2\n",
        "from google.colab.patches import cv2_imshow\n",
        "from PIL import Image\n",
        "import tensorflow as tf\n",
        "tf.random.set_seed(3)\n",
        "from tensorflow import keras\n",
        "from keras.datasets import mnist\n",
        "from tensorflow.math import confusion_matrix"
      ]
    },
    {
      "cell_type": "code",
      "source": [
        "(X_train, Y_train), (X_test, Y_test) =  mnist.load_data()"
      ],
      "metadata": {
        "colab": {
          "base_uri": "https://localhost:8080/"
        },
        "id": "9Ed6Of72Va6k",
        "outputId": "def5848d-fcd0-4618-e587-ca55e903cc73"
      },
      "execution_count": 3,
      "outputs": [
        {
          "output_type": "stream",
          "name": "stdout",
          "text": [
            "Downloading data from https://storage.googleapis.com/tensorflow/tf-keras-datasets/mnist.npz\n",
            "\u001b[1m11490434/11490434\u001b[0m \u001b[32m━━━━━━━━━━━━━━━━━━━━\u001b[0m\u001b[37m\u001b[0m \u001b[1m0s\u001b[0m 0us/step\n"
          ]
        }
      ]
    },
    {
      "cell_type": "code",
      "source": [
        "type(X_train)"
      ],
      "metadata": {
        "colab": {
          "base_uri": "https://localhost:8080/"
        },
        "id": "qQyKBS4LWrdj",
        "outputId": "cacc030d-9fe8-4525-a0ab-e1c86eeb49bd"
      },
      "execution_count": 4,
      "outputs": [
        {
          "output_type": "execute_result",
          "data": {
            "text/plain": [
              "numpy.ndarray"
            ]
          },
          "metadata": {},
          "execution_count": 4
        }
      ]
    },
    {
      "cell_type": "code",
      "source": [
        "# shape of the numpy arrays\n",
        "print(X_train.shape, Y_train.shape, X_test.shape, Y_test.shape)"
      ],
      "metadata": {
        "id": "umBWdD8vWwl_"
      },
      "execution_count": null,
      "outputs": []
    },
    {
      "cell_type": "code",
      "source": [],
      "metadata": {
        "id": "wmobiQzufX4v"
      },
      "execution_count": null,
      "outputs": []
    },
    {
      "cell_type": "code",
      "source": [
        "# printing the 10th image\n",
        "\n",
        "print(X_train[10])"
      ],
      "metadata": {
        "id": "akGFRpf_W3YB"
      },
      "execution_count": null,
      "outputs": []
    },
    {
      "cell_type": "code",
      "source": [
        "print(X_train[10].shape)"
      ],
      "metadata": {
        "id": "u63mpQjvW_mD"
      },
      "execution_count": null,
      "outputs": []
    },
    {
      "cell_type": "code",
      "source": [
        "# import matplotlib.pyplot as plt\n",
        "\n",
        "# plt.imshow(X_train[10], cmap='gray')\n",
        "# plt.title(f'Label: {Y_train[10]}')  # Displays the corresponding label\n",
        "# plt.axis('off')  # Turn off axis numbers and ticks\n",
        "# plt.show()\n"
      ],
      "metadata": {
        "colab": {
          "base_uri": "https://localhost:8080/",
          "height": 428
        },
        "id": "sWBu7WzmfYxf",
        "outputId": "8209244b-ad41-48a6-8ce6-dbbe3928aaa6"
      },
      "execution_count": 6,
      "outputs": [
        {
          "output_type": "display_data",
          "data": {
            "text/plain": [
              "<Figure size 640x480 with 1 Axes>"
            ],
            "image/png": "[encoded data removed]"
          },
          "metadata": {}
        }
      ]
    },
    {
      "cell_type": "code",
      "source": [
        "# displaying the image\n",
        "\n",
        "plt.imshow(X_train[25])\n",
        "plt.show()\n",
        "\n",
        "# print the corresponding label\n",
        "print(Y_train[25])"
      ],
      "metadata": {
        "colab": {
          "base_uri": "https://localhost:8080/",
          "height": 448
        },
        "id": "tu5hjaNBXCrm",
        "outputId": "0a89df36-fe32-44f8-b9b0-4f52083a99d7"
      },
      "execution_count": 7,
      "outputs": [
        {
          "output_type": "display_data",
          "data": {
            "text/plain": [
              "<Figure size 640x480 with 1 Axes>"
            ],
            "image/png": "[encoded data removed]"
          },
          "metadata": {}
        },
        {
          "output_type": "stream",
          "name": "stdout",
          "text": [
            "2\n"
          ]
        }
      ]
    },
    {
      "cell_type": "code",
      "source": [
        "print(Y_train.shape, Y_test.shape)"
      ],
      "metadata": {
        "id": "B94nEcv7XIO-"
      },
      "execution_count": null,
      "outputs": []
    },
    {
      "cell_type": "code",
      "source": [
        "# unique values in Y_train\n",
        "print(np.unique(Y_train))\n",
        "\n",
        "# unique values in Y_test\n",
        "print(np.unique(Y_test))"
      ],
      "metadata": {
        "colab": {
          "base_uri": "https://localhost:8080/"
        },
        "id": "CjdLq_Y7XNFO",
        "outputId": "5fec98e3-b50b-4ea9-dc20-b4e18b07fb8f"
      },
      "execution_count": 8,
      "outputs": [
        {
          "output_type": "stream",
          "name": "stdout",
          "text": [
            "[0 1 2 3 4 5 6 7 8 9]\n",
            "[0 1 2 3 4 5 6 7 8 9]\n"
          ]
        }
      ]
    },
    {
      "cell_type": "code",
      "source": [
        "# scaling the values\n",
        "\n",
        "X_train = X_train/255\n",
        "X_test = X_test/255"
      ],
      "metadata": {
        "id": "unSuQ4aNXRzW"
      },
      "execution_count": null,
      "outputs": []
    },
    {
      "cell_type": "code",
      "source": [
        "# printing the 10th image\n",
        "\n",
        "print(X_train[10])"
      ],
      "metadata": {
        "id": "aAhylethXUv4"
      },
      "execution_count": null,
      "outputs": []
    },
    {
      "cell_type": "code",
      "source": [
        "# setting up the layers of the Neural  Network\n",
        "\n",
        "model = keras.Sequential([\n",
        "                          keras.layers.Flatten(input_shape=(28,28)),\n",
        "                          keras.layers.Dense(50, activation='relu'),\n",
        "                          keras.layers.Dense(50, activation='relu'),\n",
        "                          keras.layers.Dense(10, activation='sigmoid')\n",
        "])"
      ],
      "metadata": {
        "colab": {
          "base_uri": "https://localhost:8080/"
        },
        "id": "t2LLHFfNXYdA",
        "outputId": "e4e518eb-6ae4-4b7d-8f8d-fc639f309497"
      },
      "execution_count": 10,
      "outputs": [
        {
          "output_type": "stream",
          "name": "stderr",
          "text": [
            "/usr/local/lib/python3.10/dist-packages/keras/src/layers/reshaping/flatten.py:37: UserWarning: Do not pass an `input_shape`/`input_dim` argument to a layer. When using Sequential models, prefer using an `Input(shape)` object as the first layer in the model instead.\n",
            "  super().__init__(**kwargs)\n"
          ]
        }
      ]
    },
    {
      "cell_type": "code",
      "source": [
        "# compiling the Neural Network\n",
        "\n",
        "model.compile(optimizer='adam',\n",
        "              loss = 'sparse_categorical_crossentropy',\n",
        "              metrics=['accuracy'])"
      ],
      "metadata": {
        "id": "DQezgsSlXbZT"
      },
      "execution_count": 13,
      "outputs": []
    },
    {
      "cell_type": "code",
      "source": [
        "# training the Neural Network\n",
        "\n",
        "model.fit(X_train, Y_train, epochs=10)"
      ],
      "metadata": {
        "colab": {
          "base_uri": "https://localhost:8080/"
        },
        "id": "oQYP2G7ZXfoC",
        "outputId": "c9d10b7c-c5cb-4c40-fe75-c01df8eff575"
      },
      "execution_count": 14,
      "outputs": [
        {
          "output_type": "stream",
          "name": "stdout",
          "text": [
            "Epoch 1/10\n",
            "\u001b[1m1875/1875\u001b[0m \u001b[32m━━━━━━━━━━━━━━━━━━━━\u001b[0m\u001b[37m\u001b[0m \u001b[1m3s\u001b[0m 1ms/step - accuracy: 0.7229 - loss: 4.4564\n",
            "Epoch 2/10\n",
            "\u001b[1m1875/1875\u001b[0m \u001b[32m━━━━━━━━━━━━━━━━━━━━\u001b[0m\u001b[37m\u001b[0m \u001b[1m3s\u001b[0m 1ms/step - accuracy: 0.8941 - loss: 0.4237\n",
            "Epoch 3/10\n",
            "\u001b[1m1875/1875\u001b[0m \u001b[32m━━━━━━━━━━━━━━━━━━━━\u001b[0m\u001b[37m\u001b[0m \u001b[1m3s\u001b[0m 1ms/step - accuracy: 0.9133 - loss: 0.3426\n",
            "Epoch 4/10\n",
            "\u001b[1m1875/1875\u001b[0m \u001b[32m━━━━━━━━━━━━━━━━━━━━\u001b[0m\u001b[37m\u001b[0m \u001b[1m2s\u001b[0m 1ms/step - accuracy: 0.9238 - loss: 0.2890\n",
            "Epoch 5/10\n",
            "\u001b[1m1875/1875\u001b[0m \u001b[32m━━━━━━━━━━━━━━━━━━━━\u001b[0m\u001b[37m\u001b[0m \u001b[1m2s\u001b[0m 1ms/step - accuracy: 0.9309 - loss: 0.2564\n",
            "Epoch 6/10\n",
            "\u001b[1m1875/1875\u001b[0m \u001b[32m━━━━━━━━━━━━━━━━━━━━\u001b[0m\u001b[37m\u001b[0m \u001b[1m3s\u001b[0m 1ms/step - accuracy: 0.9386 - loss: 0.2309\n",
            "Epoch 7/10\n",
            "\u001b[1m1875/1875\u001b[0m \u001b[32m━━━━━━━━━━━━━━━━━━━━\u001b[0m\u001b[37m\u001b[0m \u001b[1m3s\u001b[0m 1ms/step - accuracy: 0.9446 - loss: 0.2085\n",
            "Epoch 8/10\n",
            "\u001b[1m1875/1875\u001b[0m \u001b[32m━━━━━━━━━━━━━━━━━━━━\u001b[0m\u001b[37m\u001b[0m \u001b[1m3s\u001b[0m 1ms/step - accuracy: 0.9478 - loss: 0.1847\n",
            "Epoch 9/10\n",
            "\u001b[1m1875/1875\u001b[0m \u001b[32m━━━━━━━━━━━━━━━━━━━━\u001b[0m\u001b[37m\u001b[0m \u001b[1m2s\u001b[0m 1ms/step - accuracy: 0.9525 - loss: 0.1736\n",
            "Epoch 10/10\n",
            "\u001b[1m1875/1875\u001b[0m \u001b[32m━━━━━━━━━━━━━━━━━━━━\u001b[0m\u001b[37m\u001b[0m \u001b[1m3s\u001b[0m 1ms/step - accuracy: 0.9529 - loss: 0.1652\n"
          ]
        },
        {
          "output_type": "execute_result",
          "data": {
            "text/plain": [
              "<keras.src.callbacks.history.History at 0x7806f43b0520>"
            ]
          },
          "metadata": {},
          "execution_count": 14
        }
      ]
    },
    {
      "cell_type": "code",
      "source": [
        "loss, accuracy = model.evaluate(X_test, Y_test)\n",
        "print(accuracy)"
      ],
      "metadata": {
        "colab": {
          "base_uri": "https://localhost:8080/"
        },
        "id": "o6KhHIIbXjPc",
        "outputId": "39c67930-11a5-45f9-86c9-c2254046f695"
      },
      "execution_count": 15,
      "outputs": [
        {
          "output_type": "stream",
          "name": "stdout",
          "text": [
            "\u001b[1m313/313\u001b[0m \u001b[32m━━━━━━━━━━━━━━━━━━━━\u001b[0m\u001b[37m\u001b[0m \u001b[1m0s\u001b[0m 830us/step - accuracy: 0.9361 - loss: 0.2323\n",
            "0.9455999732017517\n"
          ]
        }
      ]
    },
    {
      "cell_type": "code",
      "source": [
        "print(X_test.shape)"
      ],
      "metadata": {
        "colab": {
          "base_uri": "https://localhost:8080/"
        },
        "id": "rBfyVG9JXmVu",
        "outputId": "cff32885-4efb-4eb8-d9fe-fc42aa599473"
      },
      "execution_count": 16,
      "outputs": [
        {
          "output_type": "stream",
          "name": "stdout",
          "text": [
            "(10000, 28, 28)\n"
          ]
        }
      ]
    },
    {
      "cell_type": "code",
      "source": [
        "# first data point in X_test\n",
        "plt.imshow(X_test[0])\n",
        "plt.show()"
      ],
      "metadata": {
        "colab": {
          "base_uri": "https://localhost:8080/",
          "height": 430
        },
        "id": "tLK31c3YXpTy",
        "outputId": "7b96c69c-cd99-4c94-a355-72e0ac81e7ed"
      },
      "execution_count": 17,
      "outputs": [
        {
          "output_type": "display_data",
          "data": {
            "text/plain": [
              "<Figure size 640x480 with 1 Axes>"
            ],
            "image/png": "[encoded data removed]"
          },
          "metadata": {}
        }
      ]
    },
    {
      "cell_type": "code",
      "source": [
        "print(Y_test[0])"
      ],
      "metadata": {
        "colab": {
          "base_uri": "https://localhost:8080/"
        },
        "id": "rN2-t0d2Xrvc",
        "outputId": "8aed0eb9-9d9f-4bf6-84ac-5927ef6c3807"
      },
      "execution_count": 18,
      "outputs": [
        {
          "output_type": "stream",
          "name": "stdout",
          "text": [
            "7\n"
          ]
        }
      ]
    },
    {
      "cell_type": "code",
      "source": [
        "Y_pred = model.predict(X_test)"
      ],
      "metadata": {
        "colab": {
          "base_uri": "https://localhost:8080/"
        },
        "id": "GeccddAbXvKS",
        "outputId": "480c3c96-40c9-495f-b557-f021662b835b"
      },
      "execution_count": 19,
      "outputs": [
        {
          "output_type": "stream",
          "name": "stdout",
          "text": [
            "\u001b[1m313/313\u001b[0m \u001b[32m━━━━━━━━━━━━━━━━━━━━\u001b[0m\u001b[37m\u001b[0m \u001b[1m0s\u001b[0m 948us/step\n"
          ]
        }
      ]
    },
    {
      "cell_type": "code",
      "source": [
        "print(Y_pred.shape)"
      ],
      "metadata": {
        "colab": {
          "base_uri": "https://localhost:8080/"
        },
        "id": "asQMBEGqXxdk",
        "outputId": "acfaca8b-c91d-4610-a9e2-4fa56d44bc39"
      },
      "execution_count": 20,
      "outputs": [
        {
          "output_type": "stream",
          "name": "stdout",
          "text": [
            "(10000, 10)\n"
          ]
        }
      ]
    },
    {
      "cell_type": "code",
      "source": [
        "print(Y_pred[0])"
      ],
      "metadata": {
        "colab": {
          "base_uri": "https://localhost:8080/"
        },
        "id": "5rECwgKkXzy6",
        "outputId": "c9ed2899-57ac-48c9-9c96-66b8e7be9b9c"
      },
      "execution_count": 21,
      "outputs": [
        {
          "output_type": "stream",
          "name": "stdout",
          "text": [
            "[0.03338928 0.9999641  0.999954   0.99979097 0.98665565 0.9978556\n",
            " 0.79495656 1.         0.9966583  0.99998593]\n"
          ]
        }
      ]
    },
    {
      "cell_type": "code",
      "source": [
        "# converting the prediction probabilities to class label\n",
        "\n",
        "label_for_first_test_image = np.argmax(Y_pred[0])\n",
        "print(label_for_first_test_image)"
      ],
      "metadata": {
        "colab": {
          "base_uri": "https://localhost:8080/"
        },
        "id": "13BQq8gvX2xO",
        "outputId": "f49a52db-03f3-42f1-b73c-8504eafc3dfb"
      },
      "execution_count": 22,
      "outputs": [
        {
          "output_type": "stream",
          "name": "stdout",
          "text": [
            "7\n"
          ]
        }
      ]
    },
    {
      "cell_type": "code",
      "source": [
        "# converting the prediction probabilities to class label for all test data points\n",
        "Y_pred_labels = [np.argmax(i) for i in Y_pred]\n",
        "print(Y_pred_labels)"
      ],
      "metadata": {
        "colab": {
          "base_uri": "https://localhost:8080/"
        },
        "id": "JCjpDRoaX5y5",
        "outputId": "698698b7-fc96-409f-a1fc-c92e98d690a1"
      },
      "execution_count": 23,
      "outputs": [
        {
          "output_type": "stream",
          "name": "stdout",
          "text": [
            "[7, 2, 1, 0, 4, 1, 4, 9, 5, 9, 0, 6, 9, 0, 1, 3, 9, 7, 3, 4, 9, 6, 6, 3, 4, 0, 7, 4, 0, 1, 3, 1, 3, 4, 7, 2, 2, 1, 3, 1, 1, 7, 4, 2, 3, 3, 1, 2, 4, 4, 6, 3, 5, 5, 6, 0, 4, 1, 9, 0, 7, 8, 9, 3, 1, 4, 6, 4, 3, 0, 7, 0, 3, 9, 1, 2, 3, 2, 9, 1, 7, 6, 2, 7, 8, 4, 1, 3, 0, 1, 3, 6, 4, 3, 1, 4, 1, 1, 6, 9, 6, 0, 3, 4, 9, 9, 2, 1, 9, 4, 8, 7, 3, 9, 1, 4, 4, 4, 9, 2, 3, 4, 7, 6, 7, 9, 0, 3, 8, 3, 6, 6, 3, 2, 8, 1, 0, 1, 6, 4, 6, 2, 3, 1, 1, 1, 8, 2, 0, 4, 9, 8, 3, 5, 1, 3, 6, 0, 3, 7, 4, 6, 3, 4, 6, 3, 4, 5, 1, 4, 4, 3, 2, 3, 2, 7, 1, 8, 1, 8, 1, 8, 5, 0, 8, 9, 2, 3, 0, 1, 1, 1, 0, 9, 0, 3, 1, 6, 4, 2, 3, 0, 1, 1, 1, 3, 9, 3, 2, 9, 4, 5, 9, 3, 9, 0, 3, 5, 1, 3, 7, 2, 2, 1, 1, 2, 8, 4, 1, 3, 3, 3, 8, 9, 3, 9, 2, 2, 4, 1, 3, 8, 8, 7, 2, 3, 0, 6, 4, 2, 4, 1, 9, 3, 2, 3, 2, 8, 2, 0, 8, 3, 1, 1, 9, 1, 8, 1, 8, 0, 3, 0, 1, 9, 3, 4, 1, 8, 2, 1, 2, 9, 2, 3, 9, 2, 6, 4, 1, 5, 8, 2, 9, 2, 0, 4, 0, 0, 2, 8, 4, 2, 1, 7, 4, 0, 2, 1, 4, 3, 3, 0, 0, 3, 1, 9, 6, 0, 2, 3, 9, 7, 9, 3, 0, 4, 2, 0, 2, 1, 1, 2, 1, 5, 3, 3, 9, 3, 8, 6, 3, 6, 1, 3, 8, 1, 0, 3, 1, 3, 1, 3, 3, 6, 1, 8, 3, 1, 7, 4, 0, 6, 3, 2, 3, 0, 4, 3, 6, 3, 1, 2, 0, 8, 8, 0, 4, 1, 1, 4, 0, 3, 3, 3, 6, 1, 6, 2, 1, 9, 2, 8, 6, 1, 9, 3, 2, 3, 4, 4, 2, 8, 3, 8, 2, 4, 5, 0, 3, 1, 1, 3, 3, 1, 9, 7, 1, 9, 2, 1, 4, 2, 9, 2, 0, 4, 9, 1, 4, 8, 1, 8, 4, 3, 9, 3, 8, 3, 7, 6, 0, 0, 3, 0, 2, 6, 6, 4, 9, 3, 3, 3, 2, 3, 9, 1, 2, 6, 8, 0, 3, 0, 6, 0, 3, 8, 8, 2, 3, 5, 8, 9, 6, 1, 8, 4, 1, 2, 3, 8, 1, 9, 3, 0, 4, 0, 8, 9, 9, 1, 0, 3, 2, 3, 7, 0, 9, 4, 0, 6, 3, 9, 3, 2, 1, 3, 1, 3, 5, 3, 3, 4, 2, 2, 0, 3, 2, 6, 3, 4, 8, 9, 3, 1, 3, 0, 3, 8, 3, 1, 4, 3, 4, 4, 6, 4, 2, 1, 8, 2, 3, 4, 8, 7, 0, 0, 0, 2, 3, 2, 7, 7, 0, 8, 7, 4, 4, 2, 9, 6, 9, 0, 9, 8, 0, 4, 6, 0, 6, 3, 3, 4, 8, 3, 3, 9, 3, 3, 3, 7, 8, 0, 2, 3, 1, 3, 0, 6, 3, 4, 3, 8, 0, 9, 6, 3, 8, 0, 9, 9, 6, 8, 6, 8, 3, 3, 8, 6, 0, 2, 4, 0, 2, 0, 3, 1, 9, 1, 3, 8, 0, 8, 4, 6, 2, 6, 1, 9, 3, 4, 5, 8, 2, 2, 9, 2, 2, 3, 0, 9, 1, 8, 0, 2, 0, 3, 2, 1, 3, 3, 6, 1, 1, 2, 3, 8, 0, 3, 7, 3, 4, 0, 9, 1, 8, 6, 7, 7, 4, 3, 4, 9, 1, 9, 3, 1, 7, 3, 9, 2, 6, 9, 1, 3, 7, 8, 3, 3, 6, 7, 2, 4, 4, 8, 3, 1, 1, 4, 4, 3, 1, 0, 7, 1, 0, 1, 9, 9, 4, 8, 5, 3, 4, 0, 8, 2, 1, 6, 8, 0, 8, 0, 4, 0, 6, 1, 9, 3, 2, 6, 7, 2, 0, 9, 3, 1, 4, 6, 2, 3, 9, 2, 0, 6, 2, 1, 1, 3, 4, 1, 0, 3, 4, 3, 1, 1, 3, 4, 9, 9, 9, 8, 4, 0, 2, 4, 3, 1, 1, 6, 4, 7, 1, 9, 4, 2, 0, 1, 3, 3, 3, 8, 3, 1, 4, 3, 6, 8, 9, 4, 1, 5, 1, 8, 0, 3, 2, 5, 1, 2, 8, 3, 4, 4, 0, 8, 8, 3, 3, 1, 2, 3, 3, 9, 6, 3, 2, 6, 1, 3, 6, 0, 1, 2, 1, 1, 1, 4, 2, 4, 2, 1, 1, 9, 6, 1, 1, 3, 4, 3, 1, 7, 7, 4, 8, 0, 7, 3, 1, 3, 1, 0, 7, 7, 0, 3, 3, 3, 2, 7, 6, 6, 9, 2, 8, 3, 5, 2, 2, 3, 6, 0, 8, 2, 9, 2, 8, 6, 8, 8, 7, 9, 9, 3, 0, 6, 6, 3, 2, 1, 3, 2, 2, 9, 3, 0, 0, 3, 1, 8, 1, 4, 4, 6, 0, 2, 9, 1, 4, 7, 4, 1, 3, 5, 8, 8, 4, 1, 1, 2, 1, 2, 2, 1, 3, 3, 0, 3, 9, 1, 7, 4, 0, 3, 3, 0, 8, 6, 3, 2, 6, 1, 6, 6, 3, 2, 3, 9, 1, 1, 7, 4, 6, 4, 9, 3, 1, 3, 3, 7, 3, 8, 9, 1, 1, 0, 9, 1, 4, 4, 5, 4, 0, 0, 2, 2, 3, 1, 3, 1, 2, 0, 3, 8, 1, 2, 6, 7, 1, 6, 2, 3, 7, 0, 1, 2, 2, 0, 8, 9, 9, 0, 2, 3, 1, 9, 1, 8, 1, 0, 4, 1, 1, 9, 0, 4, 2, 6, 8, 1, 3, 7, 3, 4, 4, 1, 8, 1, 3, 8, 1, 2, 8, 8, 0, 6, 2, 1, 1, 7, 1, 0, 3, 4, 8, 9, 3, 0, 9, 2, 2, 4, 8, 2, 1, 7, 2, 4, 9, 4, 4, 0, 3, 9, 2, 2, 3, 3, 4, 3, 3, 1, 3, 3, 8, 1, 2, 4, 4, 6, 4, 9, 3, 1, 0, 6, 9, 3, 9, 3, 9, 1, 3, 8, 0, 3, 7, 1, 3, 6, 7, 4, 3, 9, 3, 9, 6, 8, 6, 3, 1, 4, 6, 3, 8, 3, 4, 3, 8, 7, 8, 0, 7, 0, 9, 8, 7, 3, 3, 1, 9, 3, 2, 1, 3, 3, 1, 1, 2, 1, 4, 1, 4, 1, 3, 4, 5, 4, 0, 8, 3, 6, 9, 5, 0, 2, 5, 4, 4, 4, 4, 6, 6, 4, 7, 9, 3, 4, 3, 3, 8, 1, 3, 7, 2, 1, 0, 2, 4, 1, 1, 2, 8, 9, 2, 8, 7, 2, 0, 1, 3, 4, 4, 1, 3, 0, 6, 0, 4, 6, 8, 1, 5, 0, 3, 3, 3, 2, 8, 6, 2, 1, 6, 1, 1, 3, 7, 9, 0, 8, 0, 5, 4, 0, 2, 8, 1, 2, 9, 8, 4, 0, 4, 3, 8, 3, 1, 2, 1, 3, 1, 7, 9, 5, 1, 2, 0, 3, 8, 8, 6, 2, 5, 4, 1, 9, 5, 1, 3, 8, 2, 0, 2, 4, 4, 3, 6, 8, 8, 2, 4, 0, 4, 0, 4, 4, 2, 5, 3, 4, 1, 5, 9, 2, 3, 3, 8, 8, 0, 9, 3, 3, 5, 6, 0, 1, 6, 0, 1, 7, 4, 4, 1, 2, 9, 1, 4, 6, 9, 9, 3, 9, 8, 4, 4, 3, 1, 3, 1, 3, 8, 1, 9, 4, 8, 8, 2, 9, 9, 1, 4, 5, 0, 0, 3, 2, 2, 2, 1, 3, 3, 2, 4, 9, 6, 2, 7, 7, 2, 2, 1, 1, 2, 8, 3, 7, 2, 4, 1, 1, 1, 2, 0, 7, 8, 2, 7, 3, 1, 1, 3, 8, 2, 6, 2, 8, 3, 5, 6, 0, 9, 2, 4, 3, 3, 9, 2, 6, 5, 8, 0, 4, 1, 3, 8, 2, 9, 1, 8, 0, 6, 7, 2, 1, 0, 3, 5, 2, 0, 2, 2, 0, 2, 9, 9, 8, 0, 9, 9, 0, 6, 0, 9, 9, 1, 8, 3, 4, 9, 4, 1, 2, 2, 8, 1, 4, 6, 4, 0, 9, 4, 8, 3, 8, 6, 0, 3, 5, 1, 9, 0, 2, 9, 4, 0, 9, 6, 0, 5, 2, 5, 4, 2, 3, 8, 4, 3, 9, 0, 3, 8, 3, 3, 3, 8, 6, 3, 7, 6, 3, 2, 9, 6, 1, 1, 2, 9, 0, 4, 3, 3, 6, 9, 3, 9, 3, 7, 2, 7, 8, 8, 9, 8, 3, 0, 3, 2, 1, 9, 4, 3, 4, 9, 3, 2, 1, 4, 0, 2, 3, 2, 3, 9, 8, 8, 0, 0, 1, 1, 4, 7, 3, 9, 0, 0, 0, 6, 6, 2, 3, 7, 8, 4, 2, 2, 9, 2, 4, 1, 6, 3, 2, 4, 3, 9, 1, 8, 4, 0, 9, 8, 4, 8, 1, 1, 0, 7, 8, 8, 4, 0, 4, 8, 8, 2, 4, 7, 6, 6, 6, 4, 7, 1, 8, 8, 2, 3, 6, 3, 0, 0, 3, 1, 6, 9, 3, 9, 9, 3, 4, 3, 2, 6, 1, 2, 3, 1, 3, 3, 5, 0, 3, 3, 8, 4, 3, 6, 3, 5, 0, 2, 6, 9, 0, 1, 4, 6, 9, 3, 3, 1, 9, 6, 1, 9, 5, 4, 3, 0, 3, 9, 8, 2, 1, 2, 9, 1, 9, 9, 4, 0, 8, 4, 3, 2, 9, 2, 1, 2, 1, 7, 3, 6, 8, 8, 4, 9, 1, 9, 8, 5, 3, 3, 1, 1, 8, 6, 1, 3, 4, 4, 3, 2, 3, 3, 6, 8, 8, 6, 2, 3, 1, 0, 3, 8, 9, 2, 9, 6, 2, 0, 4, 8, 7, 1, 1, 4, 1, 0, 3, 1, 2, 0, 0, 9, 1, 7, 0, 7, 8, 4, 7, 2, 0, 4, 6, 0, 2, 1, 1, 3, 3, 9, 0, 7, 4, 1, 5, 3, 0, 8, 3, 3, 9, 6, 9, 3, 0, 0, 2, 3, 2, 3, 1, 2, 3, 8, 0, 8, 8, 1, 3, 0, 3, 0, 3, 1, 4, 0, 3, 7, 2, 0, 1, 8, 0, 3, 0, 4, 3, 1, 9, 8, 7, 1, 1, 4, 9, 9, 3, 9, 1, 1, 9, 0, 2, 0, 3, 3, 1, 4, 9, 2, 3, 3, 1, 7, 0, 0, 7, 3, 2, 9, 8, 7, 4, 4, 2, 6, 6, 1, 9, 6, 8, 2, 9, 0, 8, 3, 1, 1, 6, 3, 3, 1, 1, 1, 3, 1, 2, 3, 0, 2, 0, 1, 3, 3, 3, 7, 4, 3, 9, 6, 9, 0, 8, 3, 6, 6, 8, 5, 1, 4, 2, 4, 7, 3, 1, 7, 9, 0, 8, 4, 9, 5, 7, 1, 8, 3, 3, 6, 9, 8, 7, 1, 1, 6, 7, 6, 3, 2, 2, 0, 8, 9, 2, 3, 1, 0, 8, 1, 4, 5, 7, 9, 6, 9, 0, 6, 7, 5, 5, 8, 3, 8, 2, 6, 5, 0, 1, 4, 0, 1, 3, 4, 1, 4, 2, 3, 4, 2, 5, 2, 2, 1, 1, 2, 6, 4, 1, 5, 2, 8, 6, 0, 1, 8, 2, 0, 7, 1, 6, 3, 3, 5, 2, 4, 2, 4, 0, 8, 8, 3, 4, 9, 2, 7, 3, 8, 8, 3, 6, 0, 8, 6, 7, 3, 6, 4, 9, 4, 6, 6, 3, 2, 4, 1, 9, 1, 4, 6, 2, 9, 1, 1, 0, 6, 3, 9, 3, 6, 8, 6, 5, 8, 4, 6, 4, 3, 9, 1, 3, 4, 1, 9, 1, 2, 1, 2, 9, 3, 3, 4, 0, 9, 3, 6, 1, 7, 3, 3, 2, 3, 0, 1, 3, 1, 5, 8, 5, 0, 1, 0, 8, 7, 3, 4, 5, 7, 9, 8, 1, 8, 9, 9, 2, 8, 0, 2, 7, 0, 0, 0, 9, 3, 8, 6, 0, 4, 3, 4, 1, 3, 5, 4, 3, 3, 3, 3, 6, 2, 0, 2, 3, 4, 2, 3, 0, 9, 9, 4, 7, 2, 2, 4, 7, 0, 6, 0, 8, 3, 2, 8, 3, 7, 3, 0, 8, 2, 7, 2, 8, 2, 3, 3, 7, 6, 4, 0, 8, 4, 8, 2, 7, 4, 5, 2, 0, 3, 2, 9, 6, 1, 2, 0, 1, 1, 1, 2, 3, 0, 1, 8, 3, 6, 4, 8, 9, 4, 8, 6, 3, 8, 3, 1, 0, 6, 2, 2, 3, 6, 9, 5, 8, 1, 4, 1, 7, 8, 4, 6, 1, 8, 4, 3, 1, 2, 8, 0, 8, 3, 9, 3, 4, 2, 8, 3, 1, 0, 1, 0, 2, 3, 2, 6, 7, 9, 4, 2, 6, 2, 4, 4, 8, 0, 4, 4, 3, 8, 0, 6, 8, 9, 8, 3, 5, 4, 0, 4, 8, 1, 1, 3, 4, 6, 8, 0, 9, 1, 2, 3, 6, 4, 8, 2, 1, 0, 3, 1, 1, 1, 3, 2, 7, 9, 1, 8, 3, 2, 4, 9, 4, 1, 2, 2, 3, 4, 9, 1, 9, 2, 1, 3, 9, 4, 4, 1, 6, 7, 2, 7, 8, 0, 1, 9, 7, 1, 1, 7, 3, 3, 3, 3, 1, 3, 2, 6, 1, 3, 8, 1, 3, 9, 6, 0, 0, 2, 8, 8, 3, 3, 2, 1, 3, 0, 8, 4, 4, 3, 8, 9, 2, 3, 9, 7, 1, 1, 7, 0, 4, 9, 6, 3, 9, 1, 7, 5, 2, 0, 0, 4, 6, 1, 0, 7, 1, 4, 6, 4, 5, 4, 9, 9, 1, 7, 9, 3, 3, 3, 8, 2, 3, 6, 2, 2, 1, 1, 1, 1, 1, 6, 9, 8, 4, 3, 7, 1, 6, 4, 9, 0, 4, 7, 4, 2, 4, 0, 2, 0, 1, 0, 9, 8, 6, 0, 0, 4, 1, 6, 8, 2, 2, 3, 3, 4, 8, 2, 2, 1, 2, 5, 4, 4, 0, 4, 2, 8, 1, 8, 1, 0, 1, 2, 3, 9, 2, 1, 0, 1, 8, 9, 1, 6, 8, 3, 8, 9, 3, 6, 2, 8, 3, 2, 1, 1, 0, 4, 2, 9, 2, 4, 3, 2, 9, 1, 3, 2, 4, 9, 0, 3, 8, 3, 3, 8, 0, 9, 4, 6, 2, 5, 0, 2, 7, 4, 6, 6, 8, 6, 6, 8, 6, 9, 1, 3, 2, 3, 9, 9, 0, 7, 2, 1, 6, 7, 0, 6, 3, 4, 4, 7, 2, 0, 9, 9, 2, 2, 9, 4, 4, 2, 3, 3, 2, 1, 7, 0, 7, 6, 4, 1, 3, 8, 1, 9, 3, 8, 2, 3, 1, 8, 7, 3, 7, 1, 3, 3, 0, 4, 1, 4, 0, 6, 3, 3, 0, 0, 4, 9, 7, 3, 1, 6, 8, 9, 3, 1, 1, 9, 3, 8, 3, 3, 1, 0, 3, 5, 0, 3, 3, 1, 8, 6, 1, 7, 7, 3, 1, 0, 3, 9, 0, 2, 8, 5, 3, 1, 7, 7, 8, 6, 1, 9, 3, 8, 9, 3, 3, 7, 9, 1, 3, 0, 0, 3, 1, 2, 5, 2, 1, 8, 6, 2, 9, 3, 7, 3, 2, 8, 6, 2, 8, 1, 4, 8, 4, 5, 8, 3, 0, 6, 2, 1, 3, 3, 2, 1, 0, 7, 3, 4, 0, 3, 9, 3, 7, 8, 9, 0, 3, 8, 0, 7, 6, 3, 4, 1, 3, 0, 0, 8, 6, 2, 3, 1, 1, 0, 0, 4, 4, 0, 1, 2, 3, 2, 3, 7, 8, 5, 2, 5, 3, 5, 9, 1, 4, 1, 6, 4, 2, 4, 3, 3, 4, 3, 9, 3, 0, 1, 5, 3, 8, 9, 1, 9, 7, 9, 3, 5, 2, 3, 4, 6, 0, 1, 1, 1, 0, 4, 4, 7, 0, 3, 0, 0, 4, 3, 0, 6, 1, 4, 6, 1, 3, 8, 1, 2, 3, 0, 2, 7, 3, 6, 0, 1, 9, 7, 6, 0, 8, 9, 2, 9, 8, 8, 3, 0, 0, 0, 7, 6, 6, 2, 1, 6, 9, 3, 1, 8, 6, 9, 0, 6, 0, 0, 0, 6, 3, 3, 9, 3, 9, 3, 5, 8, 3, 3, 0, 4, 0, 2, 9, 5, 8, 2, 3, 1, 2, 1, 1, 3, 6, 9, 8, 0, 6, 6, 5, 3, 3, 8, 0, 2, 1, 4, 0, 4, 3, 7, 8, 3, 0, 4, 3, 5, 1, 1, 0, 4, 4, 3, 0, 1, 7, 0, 1, 0, 1, 4, 5, 0, 6, 3, 2, 8, 4, 4, 7, 2, 3, 3, 1, 0, 1, 1, 9, 6, 4, 2, 8, 3, 7, 8, 3, 9, 3, 8, 9, 9, 8, 6, 2, 8, 9, 2, 3, 6, 1, 1, 8, 9, 3, 4, 0, 7, 9, 6, 9, 1, 4, 1, 3, 0, 9, 3, 1, 4, 1, 7, 4, 7, 2, 9, 3, 0, 8, 0, 8, 4, 0, 4, 4, 1, 3, 2, 8, 3, 4, 9, 5, 2, 8, 1, 3, 3, 3, 9, 4, 2, 5, 6, 0, 3, 9, 3, 0, 9, 2, 1, 9, 5, 3, 0, 6, 9, 8, 4, 0, 4, 7, 2, 9, 0, 1, 0, 9, 1, 6, 3, 8, 1, 3, 3, 3, 0, 3, 3, 3, 9, 2, 8, 2, 0, 4, 9, 1, 9, 1, 7, 2, 3, 2, 0, 9, 1, 8, 5, 2, 3, 4, 6, 2, 1, 9, 1, 3, 6, 3, 0, 3, 8, 3, 3, 7, 6, 8, 0, 1, 4, 0, 6, 9, 8, 1, 2, 9, 9, 3, 9, 3, 3, 7, 8, 0, 1, 3, 0, 4, 6, 1, 0, 2, 0, 8, 4, 4, 1, 1, 3, 4, 8, 6, 0, 6, 9, 2, 6, 2, 7, 1, 1, 9, 4, 0, 0, 3, 8, 2, 2, 3, 1, 6, 0, 3, 7, 7, 9, 2, 6, 7, 9, 7, 8, 6, 8, 8, 4, 5, 8, 4, 1, 2, 8, 1, 3, 9, 4, 0, 3, 1, 3, 2, 3, 3, 7, 3, 4, 0, 6, 2, 0, 8, 1, 5, 3, 3, 4, 1, 7, 1, 5, 1, 5, 7, 3, 2, 2, 7, 5, 7, 3, 7, 8, 3, 4, 5, 2, 9, 6, 3, 3, 6, 7, 4, 1, 1, 1, 3, 2, 3, 0, 3, 1, 4, 2, 6, 7, 4, 3, 8, 0, 6, 2, 1, 6, 3, 9, 9, 1, 9, 3, 2, 1, 8, 4, 4, 6, 3, 8, 6, 9, 7, 1, 8, 6, 9, 3, 3, 9, 4, 0, 5, 4, 6, 4, 1, 2, 3, 0, 0, 2, 6, 6, 5, 7, 6, 8, 6, 4, 7, 9, 0, 7, 3, 4, 2, 1, 8, 8, 5, 9, 2, 7, 1, 8, 8, 8, 2, 2, 6, 0, 1, 2, 7, 1, 0, 8, 3, 5, 0, 3, 3, 6, 2, 8, 9, 0, 1, 4, 2, 1, 1, 4, 4, 4, 4, 7, 1, 6, 2, 8, 9, 0, 0, 1, 8, 8, 4, 3, 4, 2, 9, 6, 1, 5, 1, 2, 2, 2, 1, 2, 3, 7, 8, 1, 0, 0, 2, 1, 6, 6, 0, 1, 6, 2, 3, 1, 7, 4, 8, 2, 1, 4, 3, 8, 3, 9, 9, 4, 8, 3, 4, 7, 2, 3, 3, 3, 0, 4, 3, 3, 2, 6, 7, 6, 0, 0, 0, 2, 3, 0, 0, 3, 8, 1, 0, 4, 0, 2, 8, 1, 3, 0, 8, 8, 0, 3, 2, 2, 7, 8, 6, 4, 3, 3, 3, 3, 2, 9, 2, 8, 4, 6, 8, 6, 3, 0, 0, 8, 7, 5, 1, 1, 1, 1, 2, 7, 4, 0, 0, 1, 2, 6, 3, 8, 6, 4, 2, 0, 9, 4, 0, 3, 7, 8, 2, 9, 6, 7, 1, 1, 3, 6, 6, 2, 9, 1, 9, 4, 8, 3, 6, 9, 3, 9, 6, 2, 4, 6, 7, 1, 0, 6, 6, 9, 4, 8, 3, 3, 3, 4, 9, 0, 0, 3, 2, 3, 0, 1, 1, 1, 1, 6, 7, 6, 7, 9, 6, 6, 4, 1, 0, 3, 1, 1, 2, 2, 4, 1, 0, 8, 7, 6, 3, 4, 0, 0, 6, 3, 3, 0, 9, 1, 2, 1, 1, 3, 6, 0, 9, 9, 7, 1, 4, 1, 4, 8, 9, 5, 3, 3, 1, 9, 8, 2, 3, 3, 9, 9, 0, 1, 0, 2, 9, 3, 9, 3, 3, 2, 2, 1, 9, 8, 3, 7, 4, 0, 4, 7, 8, 4, 9, 8, 1, 9, 7, 5, 9, 2, 8, 2, 2, 0, 2, 2, 3, 8, 4, 6, 8, 4, 8, 2, 4, 0, 7, 9, 3, 3, 9, 4, 3, 1, 9, 4, 7, 0, 3, 9, 5, 0, 4, 4, 4, 4, 6, 1, 2, 3, 2, 5, 4, 5, 9, 6, 8, 0, 6, 0, 5, 6, 4, 1, 8, 6, 8, 2, 5, 4, 3, 3, 4, 7, 4, 0, 8, 8, 2, 2, 3, 1, 0, 1, 8, 0, 7, 1, 9, 8, 1, 3, 3, 9, 1, 1, 0, 4, 3, 1, 7, 2, 1, 6, 0, 7, 1, 1, 4, 0, 7, 4, 2, 4, 0, 6, 4, 2, 6, 9, 3, 3, 4, 6, 0, 0, 1, 8, 8, 2, 8, 3, 3, 1, 8, 0, 8, 5, 1, 1, 1, 0, 1, 3, 1, 8, 3, 0, 1, 1, 1, 0, 1, 1, 4, 5, 2, 1, 6, 2, 3, 0, 2, 8, 3, 4, 6, 9, 7, 2, 1, 3, 6, 6, 1, 3, 2, 4, 0, 5, 1, 0, 8, 2, 6, 4, 4, 3, 9, 6, 1, 6, 3, 7, 9, 2, 0, 2, 6, 0, 1, 4, 3, 9, 2, 8, 8, 0, 8, 8, 9, 0, 9, 0, 1, 6, 3, 9, 3, 9, 1, 1, 1, 4, 4, 0, 6, 9, 8, 4, 2, 7, 2, 8, 1, 0, 0, 2, 8, 3, 3, 3, 1, 3, 1, 6, 1, 3, 1, 6, 0, 3, 7, 4, 3, 3, 9, 5, 2, 4, 9, 9, 1, 6, 3, 0, 1, 3, 2, 0, 9, 4, 8, 3, 2, 0, 2, 5, 1, 3, 1, 2, 8, 8, 9, 1, 2, 1, 3, 3, 1, 0, 9, 4, 4, 8, 3, 2, 3, 9, 7, 6, 6, 2, 0, 0, 0, 5, 8, 3, 1, 5, 3, 3, 8, 3, 1, 8, 4, 6, 4, 4, 9, 6, 2, 3, 3, 3, 0, 4, 8, 0, 9, 2, 8, 3, 6, 7, 3, 1, 2, 9, 4, 9, 1, 2, 8, 6, 0, 7, 0, 9, 1, 1, 0, 7, 5, 9, 9, 1, 9, 3, 9, 2, 3, 0, 4, 1, 0, 8, 4, 0, 8, 9, 8, 9, 4, 2, 0, 3, 9, 8, 9, 8, 0, 9, 9, 6, 8, 9, 9, 3, 9, 8, 0, 1, 0, 3, 3, 5, 2, 1, 6, 3, 0, 2, 8, 3, 0, 6, 3, 3, 0, 2, 2, 6, 4, 3, 3, 8, 1, 2, 2, 1, 5, 9, 1, 3, 9, 3, 5, 1, 6, 2, 2, 8, 5, 7, 1, 4, 6, 0, 6, 0, 5, 3, 2, 3, 3, 6, 8, 9, 8, 3, 3, 8, 3, 4, 3, 2, 0, 0, 6, 4, 2, 8, 3, 9, 4, 5, 2, 9, 4, 6, 1, 1, 3, 7, 3, 6, 6, 0, 9, 0, 1, 9, 4, 2, 8, 8, 0, 1, 6, 9, 1, 3, 3, 4, 7, 6, 9, 9, 4, 3, 6, 3, 1, 1, 9, 0, 9, 1, 8, 4, 1, 1, 9, 9, 9, 3, 6, 8, 1, 6, 0, 4, 1, 3, 9, 7, 4, 9, 5, 1, 0, 0, 1, 1, 6, 2, 1, 9, 8, 4, 0, 3, 6, 4, 9, 0, 2, 1, 0, 5, 7, 3, 2, 3, 1, 8, 5, 4, 7, 0, 6, 1, 4, 2, 3, 8, 1, 0, 4, 3, 1, 1, 0, 8, 1, 7, 0, 0, 6, 0, 1, 3, 1, 8, 3, 9, 1, 0, 0, 8, 4, 5, 9, 8, 3, 2, 1, 2, 9, 9, 2, 1, 1, 3, 7, 1, 3, 1, 9, 8, 2, 2, 2, 8, 8, 5, 2, 3, 8, 9, 8, 8, 6, 8, 2, 3, 9, 1, 3, 6, 2, 9, 2, 8, 8, 1, 6, 8, 8, 1, 9, 1, 8, 0, 1, 1, 3, 0, 7, 5, 1, 4, 0, 3, 0, 9, 8, 6, 2, 2, 9, 3, 8, 0, 2, 1, 1, 1, 1, 4, 2, 9, 1, 7, 4, 1, 1, 2, 1, 9, 9, 9, 1, 0, 2, 0, 2, 1, 1, 4, 6, 4, 1, 3, 4, 9, 9, 2, 1, 3, 6, 2, 5, 2, 8, 0, 6, 9, 5, 1, 9, 7, 1, 7, 4, 8, 3, 3, 4, 3, 4, 7, 1, 3, 0, 2, 4, 8, 8, 1, 3, 3, 9, 1, 9, 3, 6, 9, 0, 3, 6, 3, 9, 8, 2, 8, 1, 2, 8, 6, 8, 3, 3, 0, 9, 4, 9, 2, 5, 1, 3, 1, 9, 4, 1, 4, 4, 3, 3, 9, 1, 2, 2, 3, 3, 0, 2, 9, 0, 0, 9, 9, 6, 0, 9, 3, 7, 8, 4, 1, 9, 9, 1, 2, 7, 5, 9, 9, 9, 0, 1, 1, 8, 3, 5, 1, 9, 0, 3, 4, 4, 9, 8, 9, 9, 1, 9, 0, 9, 1, 3, 4, 9, 2, 0, 1, 0, 5, 1, 4, 9, 3, 3, 6, 1, 3, 2, 3, 2, 2, 0, 9, 2, 6, 6, 0, 1, 2, 0, 3, 0, 2, 9, 5, 1, 9, 5, 3, 0, 8, 9, 0, 0, 3, 2, 5, 4, 0, 8, 8, 4, 3, 8, 8, 4, 3, 4, 8, 3, 4, 9, 2, 2, 1, 2, 6, 8, 8, 7, 0, 3, 6, 6, 4, 3, 8, 8, 7, 2, 2, 0, 0, 4, 2, 9, 9, 1, 9, 8, 6, 6, 4, 2, 0, 9, 2, 8, 3, 4, 3, 1, 9, 9, 9, 2, 1, 8, 3, 4, 0, 7, 8, 3, 9, 3, 4, 6, 3, 6, 2, 3, 9, 2, 6, 0, 0, 6, 1, 2, 8, 3, 9, 0, 2, 0, 4, 1, 3, 3, 0, 5, 0, 4, 6, 7, 0, 3, 0, 2, 3, 0, 2, 4, 2, 6, 8, 9, 9, 4, 2, 4, 6, 7, 8, 3, 6, 9, 4, 1, 3, 3, 3, 0, 8, 7, 7, 6, 1, 3, 9, 2, 2, 9, 2, 1, 8, 3, 3, 9, 6, 8, 4, 0, 1, 2, 8, 4, 3, 2, 1, 9, 1, 1, 3, 0, 3, 3, 7, 0, 3, 1, 9, 3, 5, 3, 1, 1, 3, 3, 0, 8, 4, 8, 2, 6, 6, 2, 9, 7, 3, 9, 0, 9, 9, 6, 4, 2, 9, 7, 2, 1, 1, 6, 1, 4, 7, 3, 9, 8, 8, 2, 1, 4, 4, 5, 9, 6, 1, 3, 2, 5, 9, 9, 3, 6, 1, 1, 4, 6, 9, 7, 2, 1, 3, 1, 4, 6, 3, 4, 1, 1, 0, 3, 1, 6, 8, 4, 9, 0, 1, 3, 0, 4, 9, 0, 6, 8, 6, 3, 6, 1, 7, 3, 8, 5, 0, 8, 3, 0, 2, 9, 8, 3, 2, 3, 3, 8, 3, 0, 0, 1, 9, 3, 1, 3, 9, 6, 0, 1, 4, 1, 2, 1, 2, 3, 1, 9, 2, 4, 9, 9, 3, 9, 2, 8, 2, 7, 1, 8, 0, 9, 1, 0, 1, 1, 7, 9, 6, 9, 9, 9, 2, 1, 6, 1, 3, 3, 2, 1, 9, 7, 6, 4, 3, 3, 6, 6, 9, 9, 6, 3, 6, 2, 9, 8, 1, 2, 2, 5, 3, 2, 3, 3, 2, 1, 0, 1, 0, 4, 5, 2, 0, 2, 8, 3, 0, 1, 7, 7, 1, 1, 2, 9, 2, 8, 6, 0, 3, 0, 7, 8, 8, 4, 7, 7, 8, 3, 8, 6, 9, 8, 1, 3, 8, 0, 3, 7, 3, 9, 3, 5, 1, 0, 3, 7, 4, 9, 3, 3, 4, 1, 1, 2, 0, 8, 1, 0, 0, 7, 3, 4, 1, 3, 9, 6, 0, 8, 6, 4, 8, 7, 7, 9, 3, 8, 6, 9, 7, 2, 3, 4, 0, 2, 1, 0, 5, 3, 3, 1, 2, 4, 4, 7, 2, 8, 3, 0, 8, 7, 8, 4, 0, 8, 4, 9, 5, 8, 3, 6, 6, 3, 0, 9, 3, 8, 6, 8, 9, 3, 4, 9, 3, 8, 9, 1, 2, 8, 8, 6, 8, 1, 3, 7, 9, 0, 1, 1, 4, 3, 0, 8, 1, 2, 4, 3, 7, 1, 2, 1, 1, 3, 0, 6, 2, 1, 2, 8, 8, 2, 6, 6, 9, 3, 8, 0, 5, 2, 9, 0, 3, 4, 3, 8, 9, 6, 6, 2, 1, 9, 3, 1, 3, 2, 4, 3, 6, 1, 9, 4, 4, 3, 0, 8, 4, 1, 4, 9, 2, 7, 8, 0, 1, 3, 6, 1, 3, 4, 1, 1, 1, 3, 6, 0, 1, 0, 7, 3, 3, 2, 5, 3, 2, 9, 4, 9, 8, 1, 3, 1, 5, 1, 2, 2, 4, 0, 0, 0, 8, 2, 2, 4, 2, 2, 8, 9, 9, 2, 1, 3, 1, 3, 4, 9, 4, 1, 3, 3, 6, 3, 8, 3, 1, 2, 8, 6, 9, 9, 8, 7, 0, 1, 7, 3, 3, 2, 9, 0, 3, 9, 9, 8, 4, 1, 0, 6, 0, 4, 6, 8, 6, 1, 1, 9, 8, 9, 2, 3, 3, 3, 9, 4, 2, 1, 9, 4, 3, 9, 6, 0, 4, 0, 6, 0, 1, 2, 3, 4, 7, 8, 9, 0, 1, 2, 8, 4, 3, 8, 9, 0, 1, 2, 3, 0, 0, 6, 3, 8, 9, 8, 3, 4, 3, 8, 6, 8, 4, 0, 9, 1, 1, 9, 3, 8, 4, 1, 8, 0, 9, 1, 0, 5, 4, 6, 4, 0, 6, 2, 1, 1, 1, 1, 7, 2, 4, 7, 3, 2, 9, 4, 3, 8, 4, 2, 4, 7, 0, 0, 1, 3, 1, 1, 7, 6, 6, 6, 8, 2, 2, 7, 1, 4, 0, 2, 4, 2, 1, 8, 9, 6, 1, 0, 0, 9, 6, 9, 5, 0, 4, 0, 8, 3, 9, 6, 3, 0, 1, 2, 3, 4, 3, 6, 7, 0, 1, 2, 3, 4, 3, 6, 7, 8, 9, 4, 1, 2, 3, 4, 3, 6, 7, 8, 5, 4, 8, 7, 4, 1, 7, 3, 9, 4, 8, 3, 1, 3, 8, 2, 7, 4, 2, 1, 5, 4, 3, 3, 8, 6, 4, 4, 4, 7, 8, 7, 3, 3, 1, 8, 9, 1, 3, 6, 3, 3, 2, 2, 6, 9, 9, 6, 5, 3, 3, 3, 8, 1, 6, 3, 6, 8, 1, 9, 1, 6, 8, 3, 7, 4, 7, 0, 9, 0, 0, 3, 7, 9, 3, 0, 2, 0, 1, 0, 1, 0, 4, 0, 1, 0, 4, 7, 9, 6, 2, 6, 2, 2, 9, 9, 0, 1, 2, 3, 4, 3, 6, 1, 8, 9, 0, 1, 2, 3, 4, 3, 6, 1, 8, 9, 0, 1, 2, 3, 4, 3, 6, 1, 8, 9, 8, 0, 3, 6, 6, 0, 8, 0, 2, 3, 7, 9, 4, 1, 1, 9, 1, 7, 1, 4, 0, 0, 4, 1, 7, 3, 2, 1, 3, 3, 3, 6, 6, 9, 1, 4, 3, 0, 2, 3, 2, 6, 0, 8, 9, 4, 3, 3, 4, 8, 1, 2, 9, 0, 6, 4, 3, 6, 3, 3, 8, 1, 4, 7, 3, 1, 2, 2, 0, 0, 1, 7, 1, 9, 3, 9, 8, 9, 6, 8, 8, 2, 3, 6, 1, 2, 9, 8, 9, 3, 2, 6, 2, 4, 8, 4, 6, 3, 0, 1, 3, 6, 1, 8, 9, 0, 1, 2, 3, 4, 3, 0, 7, 8, 9, 0, 1, 2, 3, 4, 3, 6, 2, 8, 9, 7, 4, 2, 0, 9, 0, 1, 0, 8, 8, 0, 2, 1, 8, 0, 4, 6, 1, 0, 4, 0, 3, 9, 4, 2, 0, 0, 0, 1, 3, 2, 9, 8, 0, 0, 1, 1, 8, 0, 4, 1, 1, 0, 3, 6, 0, 1, 2, 3, 0, 2, 0, 1, 8, 3, 3, 0, 2, 0, 0, 1, 1, 2, 3, 8, 1, 9, 3, 8, 2, 3, 7, 6, 2, 1, 4, 0, 2, 9, 3, 0, 1, 2, 3, 4, 3, 6, 7, 0, 1, 2, 3, 4, 3, 0, 1, 2, 8, 9, 1, 4, 0, 9, 3, 0, 8, 0, 7, 7, 1, 1, 2, 9, 2, 6, 1, 2, 3, 8, 1, 2, 9, 8, 8, 1, 1, 1, 1, 1, 0, 3, 4, 2, 0, 4, 7, 4, 2, 1, 4, 9, 1, 0, 0, 8, 3, 3, 3, 3, 3, 9, 1, 4, 8, 3, 9, 0, 9, 3, 0, 3, 8, 9, 1, 8, 1, 6, 0, 0, 1, 2, 3, 4, 3, 6, 7, 8, 9, 0, 1, 2, 3, 4, 5, 0, 7, 8, 9, 0, 1, 2, 3, 9, 3, 6, 7, 8, 9, 3, 3, 3, 2, 9, 3, 2, 1, 4, 3, 3, 3, 3, 2, 1, 3, 9, 1, 2, 5, 2, 8, 9, 1, 8, 8, 7, 8, 1, 0, 0, 7, 7, 8, 1, 3, 0, 6, 1, 3, 7, 4, 6, 1, 2, 3, 0, 7, 9, 9, 0, 3, 8, 2, 6, 8, 1, 8, 6, 3, 9, 0, 0, 0, 3, 7, 1, 6, 6, 2, 6, 6, 0, 4, 3, 4, 1, 3, 8, 6, 3, 9, 9, 3, 9, 3, 7, 8, 3, 6, 4, 7, 6, 2, 2, 0, 9, 4, 0, 1, 2, 3, 4, 5, 6, 7, 8, 9, 0, 1, 2, 7, 5, 6, 0, 1, 2, 3, 4, 3, 6, 8, 3, 1, 3, 2, 2, 0, 1, 3, 5, 9, 6, 0, 9, 4, 1, 3, 2, 1, 2, 3, 8, 3, 2, 6, 5, 6, 8, 2, 7, 4, 8, 1, 8, 0, 3, 3, 9, 4, 1, 9, 2, 1, 5, 6, 1, 9, 0, 4, 6, 1, 1, 3, 8, 7, 2, 9, 6, 3, 8, 3, 9, 0, 3, 1, 1, 6, 1, 0, 9, 3, 3, 0, 4, 0, 6, 2, 3, 4, 2, 3, 4, 6, 0, 0, 2, 0, 1, 4, 3, 6, 9, 8, 9, 0, 1, 2, 3, 7, 3, 6, 7, 8, 0, 1, 2, 3, 4, 3, 6, 7, 8, 9, 8, 7, 1, 3, 1, 3, 2, 8, 0, 7, 3, 9, 9, 0, 9, 1, 1, 3, 8, 8, 6, 3, 2, 1, 8, 3, 2, 6, 3, 6, 6, 0, 1, 0, 5, 3, 1, 9, 2, 1, 9, 6, 0, 4, 6, 1, 7, 3, 8, 7, 2, 9, 6, 3, 8, 3, 5, 7, 1, 6, 1, 0, 9, 6, 2, 3, 4, 2, 3, 4, 4, 6, 0, 0, 2, 0, 1, 2, 3, 4, 3, 6, 7, 8, 4, 0, 1, 2, 3, 4, 3, 6, 7, 8, 9, 0, 1, 2, 8, 4, 3, 6, 7, 8, 9, 8, 6, 3, 0, 6, 8, 9, 4, 1, 9, 5, 3, 0, 4, 8, 9, 1, 4, 0, 3, 3, 2, 1, 3, 4, 0, 7, 6, 0, 1, 7, 0, 6, 8, 9, 3, 1, 1, 9, 8, 6, 0, 8, 1, 7, 7, 1, 3, 2, 3, 1, 4, 2, 0, 0, 1, 8, 4, 6, 4, 9, 3, 8, 4, 3, 2, 3, 6, 3, 6, 9, 6, 3, 0, 2, 4, 6, 9, 0, 2, 3, 3, 1, 5, 3, 9, 7, 8, 7, 2, 2, 3, 7, 9, 8, 2, 1, 3, 1, 3, 0, 1, 2, 8, 4, 3, 0, 1, 8, 3, 0, 1, 2, 5, 4, 3, 6, 1, 8, 9, 0, 1, 2, 3, 4, 0, 6, 1, 8, 0, 1, 8, 6, 0, 3, 0, 1, 0, 4, 8, 0, 3, 0, 1, 2, 3, 1, 2, 1, 2, 9, 6, 0, 1, 3, 0, 2, 1, 0, 7, 6, 2, 9, 1, 9, 0, 6, 0, 0, 0, 2, 0, 6, 1, 0, 8, 4, 1, 0, 1, 0, 4, 0, 8, 3, 1, 3, 1, 8, 3, 4, 8, 8, 3, 2, 0, 1, 1, 3, 8, 1, 0, 1, 3, 3, 6, 9, 4, 1, 1, 0, 9, 3, 4, 4, 3, 8, 6, 2, 0, 1, 2, 3, 4, 3, 6, 7, 8, 9, 0, 1, 2, 3, 4, 3, 6, 7, 8, 9, 0, 1, 2, 3, 4, 3, 6, 1, 8, 9, 0, 8, 3, 9, 3, 3, 2, 6, 8, 4, 9, 1, 7, 1, 2, 3, 3, 9, 6, 9, 1, 1, 1, 2, 9, 0, 6, 8, 1, 2, 0, 7, 7, 3, 8, 2, 9, 8, 9, 0, 4, 6, 1, 1, 3, 4, 3, 6, 0, 3, 6, 8, 7, 0, 4, 2, 1, 4, 1, 3, 4, 3, 4, 2, 8, 1, 3, 1, 2, 0, 2, 3, 6, 4, 3, 0, 0, 0, 3, 3, 1, 7, 0, 6, 4, 8, 8, 6, 3, 4, 0, 9, 9, 8, 2, 1, 1, 1, 0, 1, 2, 3, 4, 3, 6, 1, 8, 9, 0, 1, 2, 3, 4, 3, 0, 2, 8, 0, 1, 2, 3, 4, 3, 6, 1, 8, 2, 1, 2, 2, 3, 0, 8, 0, 2, 1, 8, 8, 3, 6, 0, 2, 7, 6, 6, 1, 2, 8, 8, 7, 1, 4, 2, 1, 3, 1, 4, 3, 4, 3, 3, 8, 4, 1, 1, 9, 7, 4, 3, 1, 3, 3, 0, 2, 3, 3, 0, 6, 3, 8, 4, 0, 9, 9, 8, 4, 1, 0, 6, 0, 9, 6, 8, 8, 3, 0, 1, 1, 9, 8, 9, 2, 3, 3, 3, 9, 4, 2, 1, 9, 3, 9, 2, 0, 6, 0, 4, 0, 0, 1, 2, 3, 0, 7, 8, 9, 0, 1, 2, 3, 7, 8, 9, 0, 1, 2, 3, 4, 7, 8, 9, 7, 3, 0, 3, 1, 8, 7, 6, 4, 0, 2, 6, 8, 3, 2, 8, 1, 2, 0, 7, 1, 0, 4, 0, 3, 8, 0, 6, 2, 3, 1, 3, 1, 8, 0, 9, 4, 0, 7, 0, 8, 8, 3, 8, 9, 2, 6, 2, 3, 3, 1, 7, 3, 0, 1, 9, 9, 6, 0, 3, 9, 2, 8, 1, 0, 3, 5, 2, 9, 2, 0, 8, 9, 3, 0, 1, 2, 4, 4, 6, 0, 1, 2, 3, 4, 3, 6, 7, 1, 2, 3, 4, 5, 1, 0, 4, 3, 6, 6, 3, 4, 4, 2, 9, 1, 0, 6, 4, 8, 7, 2, 3, 3, 9, 2, 0, 4, 3, 3, 7, 1, 3, 6, 3, 1, 7, 8, 4, 0, 2, 4, 0, 2, 4, 1, 8, 0, 1, 0, 6, 9, 3, 2, 8, 6, 7, 5, 7, 5, 1, 0, 8, 1, 6, 7, 2, 9, 7, 9, 0, 8, 6, 2, 6, 2, 8, 1, 1, 5, 0, 1, 1, 3, 7, 4, 9, 1, 8, 6, 8, 5, 0, 1, 2, 3, 4, 3, 6, 1, 3, 9, 5, 1, 2, 3, 4, 1, 8, 9, 8, 1, 3, 8, 9, 9, 8, 9, 8, 4, 1, 3, 1, 3, 1, 1, 6, 6, 6, 1, 9, 0, 1, 1, 6, 3, 2, 1, 7, 1, 3, 9, 1, 3, 6, 8, 4, 1, 4, 3, 6, 9, 6, 1, 4, 4, 3, 2, 4, 4, 0, 1, 2, 3, 4, 3, 6, 2, 8, 9, 0, 1, 2, 3, 4, 0, 6, 9, 0, 1, 7, 3, 0, 7, 8, 1, 3, 3, 1, 7, 3, 2, 1, 4, 8, 3, 4, 4, 3, 0, 9, 4, 1, 8, 3, 5, 9, 1, 6, 0, 1, 0, 0, 2, 9, 7, 1, 1, 4, 0, 4, 2, 3, 6, 8, 0, 2, 7, 4, 0, 6, 4, 2, 6, 5, 8, 6, 9, 0, 4, 0, 6, 2, 4, 6, 0, 9, 0, 1, 3, 7, 6, 9, 1, 0, 2, 1, 0, 1, 2, 3, 4, 3, 6, 1, 8, 9, 0, 1, 2, 3, 4, 3, 6, 1, 8, 4, 0, 1, 2, 3, 4, 3, 6, 1, 8, 9, 2, 1, 3, 2, 3, 0, 8, 0, 2, 1, 8, 8, 3, 0, 6, 0, 2, 1, 6, 6, 1, 2, 8, 8, 1, 2, 1, 7, 1, 3, 1, 4, 3, 0, 3, 3, 8, 4, 3, 4, 1, 1, 9, 3, 4, 3, 1, 3, 3, 0, 2, 3, 3, 0, 3, 1, 3, 2, 3, 9, 9, 8, 4, 1, 0, 6, 0, 9, 0, 8, 8, 5, 6, 1, 1, 9, 8, 9, 2, 3, 3, 3, 9, 4, 2, 1, 9, 4, 9, 1, 3, 9, 2, 0, 6, 0, 4, 0, 6, 0, 1, 2, 3, 4, 3, 6, 1, 8, 9, 0, 1, 2, 3, 4, 3, 6, 7, 8, 9, 0, 1, 2, 3, 4, 0, 6, 7, 8, 9, 3, 8, 0, 1, 1, 0, 1, 3, 3, 6, 9, 0, 1, 0, 0, 8, 3, 4, 3, 1, 3, 0, 0, 9, 5, 3, 4, 9, 3, 7, 6, 9, 2, 4, 3, 7, 2, 6, 0, 9, 4, 9, 4, 1, 2, 2, 3, 8, 1, 3, 2, 9, 4, 3, 8, 2, 2, 1, 2, 8, 6, 3, 1, 6, 1, 2, 1, 3, 9, 3, 8, 7, 3, 7, 0, 7, 4, 8, 8, 2, 0, 6, 6, 3, 1, 6, 9, 9, 4, 8, 4, 1, 0, 6, 6, 0, 1, 1, 3, 4, 0, 6, 1, 8, 9, 0, 1, 2, 3, 0, 3, 6, 1, 8, 9, 0, 1, 2, 3, 0, 3, 6, 1, 8, 9, 1, 4, 0, 4, 0, 1, 1, 9, 3, 1, 4, 2, 8, 9, 4, 3, 1, 8, 2, 4, 4, 3, 3, 6, 9, 9, 3, 8, 6, 1, 0, 6, 8, 2, 6, 1, 9, 3, 2, 9, 6, 1, 1, 4, 8, 8, 9, 0, 3, 3, 9, 0, 3, 2, 9, 4, 1, 0, 3, 1, 3, 8, 7, 7, 8, 2, 9, 1, 1, 2, 6, 4, 2, 3, 2, 3, 6, 6, 3, 0, 0, 2, 8, 1, 6, 1, 0, 4, 3, 1, 6, 1, 9, 0, 1, 4, 3, 6, 1, 8, 9, 1, 2, 3, 4, 0, 6, 7, 0, 1, 2, 3, 4, 5, 6, 7, 8, 9, 8, 4, 0, 0, 7, 2, 4, 2, 3, 6, 6, 3, 2, 6, 3, 3, 0, 1, 0, 7, 8, 0, 3, 1, 9, 0, 1, 9, 1, 2, 7, 0, 1, 3, 8, 2, 9, 2, 7, 6, 3, 0, 9, 9, 8, 2, 9, 1, 3, 2, 3, 0, 3, 1, 9, 0, 9, 3, 6, 3, 7, 0, 1, 0, 0, 8, 2, 7, 7, 0, 1, 2, 3, 4, 3, 6, 1, 8, 9, 0, 1, 2, 3, 4, 3, 6, 7, 8, 9, 0, 1, 2, 3, 4, 3, 6, 7, 8, 9, 1, 7, 4, 8, 1, 3, 6, 3, 1, 2, 8, 6, 3, 3, 8, 6, 3, 4, 0, 9, 1, 7, 2, 9, 1, 3, 1, 3, 2, 2, 3, 0, 6, 4, 3, 1, 6, 9, 0, 9, 8, 1, 4, 0, 6, 1, 2, 6, 9, 2, 2, 3, 3, 3, 1, 0, 1, 1, 9, 6, 2, 9, 4, 1, 0, 2, 3, 4, 0, 0, 8, 8, 8, 3, 1, 3, 3, 4, 9, 8, 8, 9, 0, 9, 8, 9, 0, 2, 6, 3, 6, 1, 4, 7, 3, 4, 1, 3, 3, 3, 1, 1, 3, 4, 3, 6, 1, 2, 3, 4, 6, 0, 1, 2, 4, 0, 6, 7, 8, 1, 7, 2, 4, 1, 4, 1, 4, 9, 6, 8, 4, 5, 3, 7, 8, 8, 3, 3, 5, 6, 3, 0, 6, 1, 6, 8, 7, 0, 1, 3, 0, 8, 5, 0, 1, 5, 8, 4, 3, 3, 5, 3, 6, 9, 1, 9, 0, 6, 7, 1, 2, 3, 9, 2, 4, 0, 3, 3, 7, 3, 3, 1, 8, 2, 2, 3, 0, 2, 9, 4, 9, 1, 0, 3, 3, 4, 9, 9, 2, 3, 9, 8, 3, 8, 6, 7, 4, 0, 1, 2, 3, 4, 3, 6, 7, 8, 9, 0, 1, 2, 3, 4, 3, 6, 1, 8, 9, 0, 1, 2, 3, 4, 3, 6, 7, 8, 9, 0, 0, 7, 8, 6, 5, 5, 3, 1, 8, 6, 6, 6, 6, 0, 3, 8, 8, 3, 0, 1, 9, 0, 3, 0, 1, 9, 1, 2, 7, 0, 1, 3, 8, 2, 4, 2, 7, 4, 2, 6, 2, 3, 9, 4, 1, 1, 3, 7, 6, 8, 2, 9, 0, 3, 1, 9, 0, 9, 8, 6, 8, 1, 0, 1, 0, 3, 8, 2, 7, 7, 0, 1, 2, 3, 4, 5, 0, 1, 8, 9, 0, 1, 2, 3, 4, 3, 8, 9, 0, 1, 2, 3, 4, 3, 6, 1, 8, 9, 2, 1, 2, 1, 3, 9, 9, 8, 5, 3, 2, 0, 7, 7, 3, 1, 9, 9, 4, 3, 0, 3, 4, 1, 3, 8, 1, 4, 8, 4, 1, 8, 0, 6, 4, 6, 0, 5, 5, 3, 3, 3, 3, 2, 3, 9, 6, 9, 2, 6, 2, 1, 2, 0, 8, 3, 8, 3, 0, 8, 1, 4, 9, 3, 0, 9, 7, 0, 0, 4, 0, 0, 9, 1, 6, 2, 7, 6, 8, 3, 3, 2, 1, 8, 3, 8, 6, 1, 0, 2, 1, 4, 0, 1, 2, 3, 4, 5, 6, 7, 8, 9, 0, 1, 2, 3, 4, 3, 6, 1, 8, 9, 0, 1, 2, 3, 0, 3, 6, 1, 8, 9, 1, 6, 4, 7, 6, 2, 3, 4, 8, 7, 8, 6, 9, 8, 3, 2, 2, 8, 4, 8, 3, 6, 4, 0, 2, 0, 1, 1, 2, 9, 6, 8, 2, 1, 0, 0, 3, 2, 9, 1, 6, 3, 9, 3, 1, 1, 8, 3, 8, 1, 9, 0, 0, 0, 1, 1, 9, 8, 2, 6, 0, 0, 0, 0, 3, 2, 8, 6, 1, 5, 9, 9, 3, 0, 3, 1, 4, 4, 0, 4, 9, 0, 1, 2, 3, 4, 6, 7, 8, 0, 1, 2, 4, 4, 6, 1, 8, 9, 0, 1, 2, 3, 0, 6, 7, 8, 9, 9, 7, 0, 9, 0, 1, 0, 8, 8, 0, 9, 3, 4, 7, 8, 0, 6, 1, 0, 0, 9, 0, 4, 0, 5, 0, 1, 6, 9, 3, 2, 9, 1, 6, 0, 8, 1, 8, 9, 3, 6, 2, 6, 0, 7, 2, 0, 1, 7, 0, 6, 7, 1, 2, 0, 8, 1, 4, 2, 8, 7, 6, 8, 7, 8, 6, 2, 9, 3, 0, 1, 2, 3, 4, 3, 6, 1, 8, 9, 0, 1, 2, 3, 4, 0, 6, 1, 8, 9, 0, 1, 2, 3, 4, 3, 0, 1, 8, 9, 8, 9, 3, 3, 0, 3, 1, 6, 8, 4, 1, 0, 5, 0, 2, 2, 8, 1, 3, 4, 3, 4, 7, 2, 0, 3, 0, 1, 9, 2, 3, 2, 3, 0, 3, 2, 8, 0, 9, 9, 3, 1, 1, 9, 0, 3, 8, 8, 4, 8, 0, 3, 8, 0, 9, 6, 2, 8, 0, 1, 0, 6, 2, 3, 8, 9, 0, 2, 2, 3, 4, 3, 3, 2, 8, 3, 0, 6, 6, 6, 7, 9, 1, 8, 2, 1, 3, 3, 0, 1, 9, 4, 0, 0, 0, 1, 2, 3, 9, 5, 6, 3, 8, 9, 0, 1, 2, 3, 4, 3, 6, 7, 8, 9, 0, 1, 2, 3, 4, 3, 6, 9, 0, 1, 3, 1, 0, 1, 2, 4, 9, 8, 8, 6, 8, 0, 1, 1, 9, 2, 6, 6, 8, 7, 4, 2, 9, 7, 0, 2, 1, 0, 8, 6, 0, 1, 2, 3, 0, 0, 6, 3, 8, 9, 0, 1, 2, 3, 4, 0, 6, 1, 8, 9, 0, 1, 2, 3, 4, 3, 6, 7, 8, 9, 8, 6, 3, 9, 3, 0, 2, 3, 4, 3, 8, 0, 1, 3, 2, 2, 0, 1, 2, 1, 3, 2, 6, 0, 3, 0, 7, 2, 2, 4, 6, 4, 0, 3, 9, 9, 8, 9, 3, 3, 1, 7, 0, 1, 6, 3, 4, 0, 0, 5, 6, 2, 0, 6, 3, 7, 7, 4, 4, 3, 9, 2, 8, 9, 6, 0, 9, 3, 3, 8, 8, 7, 1, 0, 0, 4, 8, 3, 2, 3, 9, 0, 1, 9, 1, 3, 1, 3, 4, 8, 6, 2, 1, 6, 8, 8, 0, 1, 2, 8, 0, 2, 8, 9, 0, 1, 2, 3, 4, 6, 7, 8, 9, 0, 1, 2, 3, 4, 7, 8, 9, 1, 4, 0, 3, 3, 0, 9, 0, 4, 8, 4, 8, 4, 6, 3, 0, 7, 1, 1, 6, 9, 1, 3, 6, 2, 8, 8, 2, 3, 8, 9, 0, 8, 8, 7, 1, 7, 1, 1, 0, 3, 4, 2, 6, 0, 7, 4, 2, 7, 4, 2, 9, 2, 7, 9, 2, 1, 0, 6, 3, 3, 4, 8, 0, 9, 6, 9, 0, 6, 3, 0, 4, 1, 6, 0, 0, 1, 2, 3, 4, 3, 6, 7, 0, 1, 2, 3, 4, 1, 8, 9, 0, 1, 2, 3, 4, 1, 2, 5, 1, 6, 4, 3, 9, 9, 0, 9, 7, 1, 6, 4, 3, 6, 2, 0, 5, 8, 6, 3, 7, 0, 0, 1, 7, 4, 3, 2, 4, 1, 3, 7, 6, 4, 2, 7, 7, 9, 8, 4, 3, 5, 2, 6, 3, 3, 8, 0, 3, 4, 7, 1, 3, 1, 1, 9, 6, 2, 0, 9, 1, 1, 3, 3, 9, 1, 6, 4, 3, 9, 8, 2, 1, 8, 6, 4, 1, 3, 0, 6, 3, 0, 1, 2, 3, 4, 5, 6, 1, 8, 9, 0, 1, 2, 3, 4, 3, 0, 2, 8, 9, 0, 1, 2, 3, 4, 3, 6, 1, 8, 9, 6, 9, 1, 0, 2, 3, 4, 3, 8, 3, 1, 3, 0, 1, 2, 8, 3, 2, 0, 1, 2, 6, 0, 0, 3, 9, 9, 8, 9, 0, 3, 1, 2, 4, 1, 0, 0, 6, 6, 6, 3, 3, 9, 2, 8, 9, 8, 2, 1, 4, 0, 0, 8, 3, 2, 3, 9, 0, 1, 9, 1, 3, 1, 1, 6, 1, 2, 1, 6, 8, 0, 1, 2, 3, 4, 3, 0, 1, 8, 9, 0, 1, 2, 3, 4, 3, 6, 1, 8, 0, 1, 2, 3, 3, 6, 1, 8, 1, 0, 4, 3, 6, 6, 3, 4, 4, 2, 8, 1, 0, 6, 4, 9, 1, 2, 9, 2, 0, 9, 3, 3, 9, 1, 3, 3, 3, 1, 6, 1, 3, 2, 8, 4, 0, 2, 4, 0, 2, 4, 7, 8, 0, 1, 0, 6, 9, 3, 2, 4, 8, 6, 0, 3, 3, 3, 1, 0, 8, 1, 6, 2, 3, 9, 3, 9, 3, 6, 3, 2, 6, 2, 8, 1, 1, 3, 5, 3, 3, 3, 0, 1, 1, 3, 8, 4, 9, 4, 3, 1, 8, 0, 8, 9, 0, 1, 2, 3, 4, 3, 6, 7, 8, 9, 0, 1, 2, 3, 4, 3, 6, 1, 8, 9, 0, 1, 2, 3, 4, 3, 6, 7, 8, 9, 3, 3, 3, 2, 9, 3, 2, 1, 4, 3, 3, 2, 3, 2, 1, 3, 9, 3, 2, 1, 2, 8, 9, 1, 8, 8, 1, 8, 1, 0, 0, 6, 2, 1, 8, 7, 3, 0, 0, 1, 3, 2, 4, 6, 1, 2, 3, 0, 1, 9, 9, 0, 3, 4, 4, 8, 4, 1, 8, 6, 3, 9, 0, 0, 0, 3, 1, 1, 6, 4, 6, 0, 4, 3, 4, 1, 3, 8, 6, 3, 9, 9, 3, 9, 3, 1, 8, 3, 6, 4, 1, 6, 2, 2, 0, 9, 4, 0, 1, 2, 3, 4, 3, 6, 1, 8, 9, 0, 1, 2, 3, 4, 3, 6, 7, 8, 9, 0, 1, 2, 3, 4, 0, 6, 1, 8, 9, 6, 4, 2, 6, 4, 7, 3, 1, 4, 3, 2, 9, 3, 9, 3, 8, 2, 0, 9, 0, 6, 0, 1, 0, 6, 3, 3, 3, 3, 8, 0, 0, 3, 4, 1, 3, 3, 0, 8, 3, 0, 6, 2, 3, 8, 1, 3, 1, 3, 8, 0, 4, 2, 0, 9, 7, 6, 2, 4, 1, 6, 2, 6, 1, 1, 9, 8, 0, 6, 9, 4, 9, 9, 6, 2, 3, 7, 1, 9, 2, 2, 3, 3, 1, 8, 0, 1, 2, 3, 4, 7, 8, 9, 0, 1, 2, 3, 0, 1, 8, 5, 0, 1, 7, 8, 9, 8, 9, 2, 6, 1, 3, 0, 4, 8, 2, 6, 0, 3, 4, 0, 9, 2, 0, 9, 9, 4, 9, 7, 2, 8, 7, 4, 4, 9, 8, 0, 8, 2, 6, 6, 2, 3, 1, 3, 2, 7, 3, 1, 9, 0, 1, 1, 3, 0, 0, 7, 8, 1, 3, 0, 0, 6, 0, 0, 0, 9, 1, 6, 6, 9, 0, 1, 6, 1, 1, 0, 1, 8, 2, 4, 2, 2, 3, 4, 0, 6, 2, 4, 1, 2, 2, 8, 6, 3, 9, 2, 1, 4, 3, 9, 6, 1, 2, 2, 4, 4, 5, 7, 0, 0, 1, 6, 6, 8, 2, 1, 2, 2, 4, 2, 1, 6, 1, 0, 6, 9, 8, 3, 9, 6, 3, 0, 1, 2, 1, 4, 3, 0, 7, 8, 9, 0, 8, 2, 3, 4, 3, 6, 1, 8, 9, 0, 1, 2, 3, 4, 3, 6, 1, 8, 9, 1, 6, 8, 9, 9, 0, 1, 2, 0, 4, 3, 2, 4, 9, 4, 0, 3, 8, 7, 3, 8, 2, 1, 7, 0, 3, 8, 3, 2, 5, 1, 1, 6, 2, 1, 3, 8, 6, 4, 2, 0, 2, 3, 3, 0, 2, 8, 0, 6, 8, 1, 7, 9, 1, 9, 2, 5, 7, 6, 6, 8, 7, 4, 9, 2, 1, 3, 3, 0, 3, 0, 8, 0, 3, 7, 9, 7, 0, 8, 7, 9, 1, 7, 8, 0, 3, 3, 3, 0, 0, 1, 2, 3, 4, 3, 6, 7, 8, 9, 0, 1, 2, 3, 4, 3, 6, 7, 8, 9, 0, 1, 2, 3, 4, 7, 8, 9, 6, 4, 2, 6, 4, 7, 8, 9, 2, 9, 3, 9, 3, 0, 0, 1, 0, 4, 2, 6, 3, 2, 3, 0, 3, 0, 1, 0, 3, 0, 8, 3, 0, 6, 1, 7, 8, 0, 9, 2, 6, 7, 1, 9, 6, 9, 4, 9, 9, 6, 7, 1, 2, 0, 3, 1, 8, 0, 1, 2, 4, 3, 6, 1, 8, 9, 0, 1, 3, 4, 3, 6, 1, 5, 0, 1, 3, 4, 3, 8, 9, 1, 1, 1, 1, 9, 9, 1, 1, 0, 0, 3, 9, 2, 1, 2, 2, 2, 3, 6, 8, 3, 2, 0, 0, 6, 1, 1, 3, 8, 6, 2, 9, 4, 8, 8, 7, 1, 0, 8, 1, 1, 3, 8, 3, 3, 4, 6, 1, 1, 3, 3, 0, 1, 2, 3, 6, 4, 1, 2, 4, 1, 3, 4, 2, 0, 4, 8, 6, 1, 9, 0, 2, 2, 6, 9, 3, 6, 3, 6, 0, 1, 2, 3, 4, 3, 6, 7, 8, 9, 0, 1, 2, 3, 4, 5, 5, 1, 8, 9, 0, 1, 2, 2, 5, 6, 1, 8, 1, 0, 9, 3, 7, 5, 1, 8, 6, 9, 0, 4, 1, 9, 3, 8, 4, 4, 1, 0, 1, 9, 2, 8, 1, 8, 2, 3, 9, 6, 0, 6, 3, 3, 3, 3, 3, 9, 8, 1, 1, 0, 6, 1, 0, 0, 6, 2, 1, 1, 3, 2, 7, 1, 8, 8, 7, 8, 4, 6, 0, 1, 0, 7, 0, 3, 6, 8, 7, 1, 3, 9, 9, 3, 7, 2, 4, 9, 4, 3, 0, 2, 2, 3, 3, 2, 3, 3, 9, 4, 1, 7, 2, 0, 1, 3, 3, 4, 3, 6, 7, 8, 9, 0, 1, 1, 3, 4, 3, 0, 7, 8, 9, 0, 1, 2, 3, 4, 5, 6, 2, 8, 9, 1, 0, 1, 2, 7, 3, 3, 4, 4, 0, 0, 6, 9, 6, 6, 0, 7, 2, 3, 4, 4, 9, 1, 4, 0, 1, 9, 3, 7, 2, 3, 1, 4, 4, 0, 9, 9, 6, 1, 8, 3, 3, 7, 3, 9, 8, 8, 4, 1, 1, 6, 2, 1, 9, 8, 2, 8, 8, 7, 2, 2, 3, 9, 3, 3, 3, 0, 0, 3, 4, 3, 6, 0, 1, 4, 1, 1, 8, 8, 2, 0, 1, 0, 0, 1, 2, 3, 0, 0, 6, 2, 8, 9, 0, 1, 2, 3, 4, 0, 6, 7, 8, 9, 0, 1, 2, 3, 4, 5, 6, 7, 8, 8, 0, 6, 0, 1, 2, 3, 7, 9, 4, 2, 1, 7, 1, 7, 1, 4, 0, 0, 1, 7, 3, 7, 1, 3, 3, 3, 1, 6, 9, 7, 1, 3, 0, 2, 6, 0, 8, 9, 4, 3, 3, 4, 8, 1, 0, 9, 0, 6, 5, 3, 8, 1, 4, 7, 3, 2, 0, 0, 1, 7, 8, 9, 6, 8, 8, 2, 3, 5, 1, 8, 9, 0, 2, 0, 1, 2, 2, 4, 4, 6, 7, 5, 9, 0, 1, 3, 3, 4, 3, 6, 7, 8, 9, 0, 1, 3, 3, 4, 6, 6, 7, 8, 8, 7, 4, 6, 1, 4, 0, 4, 9, 3, 7, 2, 4, 7, 3, 8, 6, 3, 2, 2, 0, 5, 8, 6, 0, 3, 8, 1, 0, 3, 0, 4, 7, 4, 9, 0, 9, 0, 7, 1, 7, 1, 6, 6, 0, 6, 2, 8, 7, 6, 4, 9, 9, 3, 3, 7, 4, 3, 0, 4, 6, 6, 1, 1, 3, 2, 1, 0, 0, 1, 2, 3, 4, 1, 8, 4, 0, 1, 8, 3, 4, 3, 6, 7, 8, 0, 1, 2, 3, 4, 1, 8, 9, 0, 8, 3, 9, 3, 5, 8, 6, 8, 4, 1, 1, 1, 3, 3, 3, 6, 9, 1, 1, 1, 2, 1, 2, 0, 1, 3, 3, 8, 2, 5, 8, 8, 1, 3, 4, 6, 8, 1, 0, 0, 8, 1, 2, 5, 4, 3, 4, 2, 8, 1, 3, 1, 2, 2, 3, 3, 5, 7, 0, 6, 8, 0, 3, 4, 9, 6, 0, 7, 7, 1, 0, 1, 1, 8, 4, 0, 1, 2, 3, 4, 5, 6, 1, 8, 0, 1, 2, 3, 4, 7, 8, 9, 7, 8, 6, 4, 1, 9, 2, 8, 4, 4, 7, 0, 1, 9, 2, 8, 1, 8, 2, 6, 0, 6, 8, 3, 3, 8, 9, 1, 4, 0, 6, 1, 0, 0, 6, 2, 1, 1, 7, 3, 8, 4, 6, 0, 7, 0, 3, 6, 8, 1, 1, 3, 2, 4, 9, 4, 3, 6, 4, 1, 7, 2, 6, 6, 0, 1, 2, 3, 4, 3, 6, 1, 8, 4, 0, 1, 2, 3, 4, 5, 6]\n"
          ]
        }
      ]
    },
    {
      "cell_type": "code",
      "source": [
        "conf_mat = confusion_matrix(Y_test, Y_pred_labels)"
      ],
      "metadata": {
        "id": "vpWaV-j4X9Ou"
      },
      "execution_count": 24,
      "outputs": []
    },
    {
      "cell_type": "code",
      "source": [
        "print(conf_mat)"
      ],
      "metadata": {
        "colab": {
          "base_uri": "https://localhost:8080/"
        },
        "id": "vfDpQIXSX_sE",
        "outputId": "7b00693b-1f06-49fa-a83a-bf9053a4432b"
      },
      "execution_count": 25,
      "outputs": [
        {
          "output_type": "stream",
          "name": "stdout",
          "text": [
            "tf.Tensor(\n",
            "[[ 959    1    1    0    6    2    5    1    3    2]\n",
            " [   2 1112    3    2    0    1    2    5    8    0]\n",
            " [   6    6  948   33    9    3    2    8   16    1]\n",
            " [   2    9   22  944    4    5    0    2   17    5]\n",
            " [  55    2    3    0  877    0   12    4    3   26]\n",
            " [  97   11    6  584   10  154    8    1   14    7]\n",
            " [  79    2    2    0    5   31  830    0    9    0]\n",
            " [   1  319   99   95    3    1    1  487    5   17]\n",
            " [   8    0    7   14    9    7    3    5  912    9]\n",
            " [   8    4    1    9   44   11    1    6    9  916]], shape=(10, 10), dtype=int32)\n"
          ]
        }
      ]
    },
    {
      "cell_type": "code",
      "source": [
        "plt.figure(figsize=(15,7))\n",
        "sns.heatmap(conf_mat, annot=True, fmt='d', cmap='Blues')\n",
        "plt.ylabel('True Labels')\n",
        "plt.xlabel('Predicted Labels')"
      ],
      "metadata": {
        "colab": {
          "base_uri": "https://localhost:8080/",
          "height": 637
        },
        "id": "sa4HFeUhYCjU",
        "outputId": "44b9896a-7660-4cce-ef72-4dad01807c5c"
      },
      "execution_count": 26,
      "outputs": [
        {
          "output_type": "execute_result",
          "data": {
            "text/plain": [
              "Text(0.5, 47.7222222222222, 'Predicted Labels')"
            ]
          },
          "metadata": {},
          "execution_count": 26
        },
        {
          "output_type": "display_data",
          "data": {
            "text/plain": [
              "<Figure size 1500x700 with 2 Axes>"
            ],
            "image/png": "[encoded data removed]"
          },
          "metadata": {}
        }
      ]
    },
    {
      "cell_type": "code",
      "source": [
        "input_image_path = '/content/MNIST_digit.png'\n",
        "\n",
        "input_image = cv2.imread(input_image_path)"
      ],
      "metadata": {
        "id": "dcbzUHDBYGbB"
      },
      "execution_count": 27,
      "outputs": []
    },
    {
      "cell_type": "code",
      "source": [
        "type(input_image)"
      ],
      "metadata": {
        "colab": {
          "base_uri": "https://localhost:8080/"
        },
        "id": "zSuKbp5SYIj2",
        "outputId": "aea38951-1425-4a78-d269-4194e0d7eeff"
      },
      "execution_count": 28,
      "outputs": [
        {
          "output_type": "execute_result",
          "data": {
            "text/plain": [
              "NoneType"
            ]
          },
          "metadata": {},
          "execution_count": 28
        }
      ]
    },
    {
      "cell_type": "code",
      "source": [
        "print(input_image)"
      ],
      "metadata": {
        "colab": {
          "base_uri": "https://localhost:8080/"
        },
        "id": "073v1O7GYLFk",
        "outputId": "2aca9b47-5ae4-416d-ef2f-bfbbd0ee2e82"
      },
      "execution_count": 29,
      "outputs": [
        {
          "output_type": "stream",
          "name": "stdout",
          "text": [
            "None\n"
          ]
        }
      ]
    },
    {
      "cell_type": "code",
      "source": [
        "cv2_imshow(input_image)"
      ],
      "metadata": {
        "colab": {
          "base_uri": "https://localhost:8080/",
          "height": 276
        },
        "id": "ycdn-t6jYN1U",
        "outputId": "9bb09369-9eaa-46d0-81ff-9849b2fe3834"
      },
      "execution_count": 30,
      "outputs": [
        {
          "output_type": "error",
          "ename": "AttributeError",
          "evalue": "'NoneType' object has no attribute 'clip'",
          "traceback": [
            "\u001b[0;31m---------------------------------------------------------------------------\u001b[0m",
            "\u001b[0;31mAttributeError\u001b[0m                            Traceback (most recent call last)",
            "\u001b[0;32m<ipython-input-30-e285c099236a>\u001b[0m in \u001b[0;36m<cell line: 1>\u001b[0;34m()\u001b[0m\n\u001b[0;32m----> 1\u001b[0;31m \u001b[0mcv2_imshow\u001b[0m\u001b[0;34m(\u001b[0m\u001b[0minput_image\u001b[0m\u001b[0;34m)\u001b[0m\u001b[0;34m\u001b[0m\u001b[0;34m\u001b[0m\u001b[0m\n\u001b[0m",
            "\u001b[0;32m/usr/local/lib/python3.10/dist-packages/google/colab/patches/__init__.py\u001b[0m in \u001b[0;36mcv2_imshow\u001b[0;34m(a)\u001b[0m\n\u001b[1;32m     16\u001b[0m       \u001b[0;34m(\u001b[0m\u001b[0mN\u001b[0m\u001b[0;34m,\u001b[0m \u001b[0mM\u001b[0m\u001b[0;34m,\u001b[0m \u001b[0;36m4\u001b[0m\u001b[0;34m)\u001b[0m \u001b[0;32mis\u001b[0m \u001b[0man\u001b[0m \u001b[0mNxM\u001b[0m \u001b[0mBGRA\u001b[0m \u001b[0mcolor\u001b[0m \u001b[0mimage\u001b[0m\u001b[0;34m.\u001b[0m\u001b[0;34m\u001b[0m\u001b[0;34m\u001b[0m\u001b[0m\n\u001b[1;32m     17\u001b[0m   \"\"\"\n\u001b[0;32m---> 18\u001b[0;31m   \u001b[0ma\u001b[0m \u001b[0;34m=\u001b[0m \u001b[0ma\u001b[0m\u001b[0;34m.\u001b[0m\u001b[0mclip\u001b[0m\u001b[0;34m(\u001b[0m\u001b[0;36m0\u001b[0m\u001b[0;34m,\u001b[0m \u001b[0;36m255\u001b[0m\u001b[0;34m)\u001b[0m\u001b[0;34m.\u001b[0m\u001b[0mastype\u001b[0m\u001b[0;34m(\u001b[0m\u001b[0;34m'uint8'\u001b[0m\u001b[0;34m)\u001b[0m\u001b[0;34m\u001b[0m\u001b[0;34m\u001b[0m\u001b[0m\n\u001b[0m\u001b[1;32m     19\u001b[0m   \u001b[0;31m# cv2 stores colors as BGR; convert to RGB\u001b[0m\u001b[0;34m\u001b[0m\u001b[0;34m\u001b[0m\u001b[0m\n\u001b[1;32m     20\u001b[0m   \u001b[0;32mif\u001b[0m \u001b[0ma\u001b[0m\u001b[0;34m.\u001b[0m\u001b[0mndim\u001b[0m \u001b[0;34m==\u001b[0m \u001b[0;36m3\u001b[0m\u001b[0;34m:\u001b[0m\u001b[0;34m\u001b[0m\u001b[0;34m\u001b[0m\u001b[0m\n",
            "\u001b[0;31mAttributeError\u001b[0m: 'NoneType' object has no attribute 'clip'"
          ]
        }
      ]
    },
    {
      "cell_type": "code",
      "source": [
        "input_image.shape"
      ],
      "metadata": {
        "colab": {
          "base_uri": "https://localhost:8080/",
          "height": 147
        },
        "id": "ud6Br3_vYRt7",
        "outputId": "9ba06acd-4059-498a-ff1f-ed1399c9fa11"
      },
      "execution_count": 31,
      "outputs": [
        {
          "output_type": "error",
          "ename": "AttributeError",
          "evalue": "'NoneType' object has no attribute 'shape'",
          "traceback": [
            "\u001b[0;31m---------------------------------------------------------------------------\u001b[0m",
            "\u001b[0;31mAttributeError\u001b[0m                            Traceback (most recent call last)",
            "\u001b[0;32m<ipython-input-31-e773aabd10b8>\u001b[0m in \u001b[0;36m<cell line: 1>\u001b[0;34m()\u001b[0m\n\u001b[0;32m----> 1\u001b[0;31m \u001b[0minput_image\u001b[0m\u001b[0;34m.\u001b[0m\u001b[0mshape\u001b[0m\u001b[0;34m\u001b[0m\u001b[0;34m\u001b[0m\u001b[0m\n\u001b[0m",
            "\u001b[0;31mAttributeError\u001b[0m: 'NoneType' object has no attribute 'shape'"
          ]
        }
      ]
    },
    {
      "cell_type": "code",
      "source": [
        "grayscale = cv2.cvtColor(input_image, cv2.COLOR_RGB2GRAY)"
      ],
      "metadata": {
        "id": "65rjJrd6YUAf"
      },
      "execution_count": null,
      "outputs": []
    },
    {
      "cell_type": "code",
      "source": [
        "grayscale.shape"
      ],
      "metadata": {
        "id": "GVvqIn46YV-D"
      },
      "execution_count": null,
      "outputs": []
    },
    {
      "cell_type": "code",
      "source": [
        "input_image_resize = cv2.resize(grayscale, (28, 28))"
      ],
      "metadata": {
        "id": "u1mBbge-YYQp"
      },
      "execution_count": null,
      "outputs": []
    },
    {
      "cell_type": "code",
      "source": [
        "input_image_resize.shape"
      ],
      "metadata": {
        "id": "nVgHwbAnYahV"
      },
      "execution_count": null,
      "outputs": []
    },
    {
      "cell_type": "code",
      "source": [
        "cv2_imshow(input_image_resize)"
      ],
      "metadata": {
        "id": "DNjHdN1NYc61"
      },
      "execution_count": null,
      "outputs": []
    },
    {
      "cell_type": "code",
      "source": [
        "input_image_resize = input_image_resize/255"
      ],
      "metadata": {
        "id": "RtiAIWNdYfBW"
      },
      "execution_count": null,
      "outputs": []
    },
    {
      "cell_type": "code",
      "source": [
        "type(input_image_resize)"
      ],
      "metadata": {
        "id": "Qk17bL5nYhUR"
      },
      "execution_count": null,
      "outputs": []
    },
    {
      "cell_type": "code",
      "source": [
        "image_reshaped = np.reshape(input_image_resize, [1,28,28])"
      ],
      "metadata": {
        "id": "rSczeYkHYj2F"
      },
      "execution_count": null,
      "outputs": []
    },
    {
      "cell_type": "code",
      "source": [
        "input_prediction = model.predict(image_reshaped)\n",
        "print(input_prediction)"
      ],
      "metadata": {
        "id": "5Tp3eTlyYqTw"
      },
      "execution_count": null,
      "outputs": []
    },
    {
      "cell_type": "code",
      "source": [
        "input_pred_label = np.argmax(input_prediction)"
      ],
      "metadata": {
        "id": "d3Qkg7icYxrC"
      },
      "execution_count": null,
      "outputs": []
    },
    {
      "cell_type": "code",
      "source": [
        "print(input_pred_label)"
      ],
      "metadata": {
        "id": "ImFGDBuMYz1P"
      },
      "execution_count": null,
      "outputs": []
    },
    {
      "cell_type": "code",
      "source": [
        "input_image_path = input('Path of the image to be predicted: ')\n",
        "\n",
        "input_image = cv2.imread(input_image_path)\n",
        "\n",
        "cv2_imshow(input_image)\n",
        "\n",
        "grayscale = cv2.cvtColor(input_image, cv2.COLOR_RGB2GRAY)\n",
        "\n",
        "input_image_resize = cv2.resize(grayscale, (28, 28))\n",
        "\n",
        "input_image_resize = input_image_resize/255\n",
        "\n",
        "image_reshaped = np.reshape(input_image_resize, [1,28,28])\n",
        "\n",
        "input_prediction = model.predict(image_reshaped)\n",
        "\n",
        "input_pred_label = np.argmax(input_prediction)\n",
        "\n",
        "print('The Handwritten Digit is recognised as ', input_pred_label)"
      ],
      "metadata": {
        "colab": {
          "base_uri": "https://localhost:8080/",
          "height": 373
        },
        "id": "XyKlpB0zY4Ff",
        "outputId": "93b0fe14-06de-455b-b560-0e54a370083b"
      },
      "execution_count": 32,
      "outputs": [
        {
          "output_type": "error",
          "ename": "KeyboardInterrupt",
          "evalue": "Interrupted by user",
          "traceback": [
            "\u001b[0;31m---------------------------------------------------------------------------\u001b[0m",
            "\u001b[0;31mKeyboardInterrupt\u001b[0m                         Traceback (most recent call last)",
            "\u001b[0;32m<ipython-input-32-3b4caebf89bc>\u001b[0m in \u001b[0;36m<cell line: 1>\u001b[0;34m()\u001b[0m\n\u001b[0;32m----> 1\u001b[0;31m \u001b[0minput_image_path\u001b[0m \u001b[0;34m=\u001b[0m \u001b[0minput\u001b[0m\u001b[0;34m(\u001b[0m\u001b[0;34m'Path of the image to be predicted: '\u001b[0m\u001b[0;34m)\u001b[0m\u001b[0;34m\u001b[0m\u001b[0;34m\u001b[0m\u001b[0m\n\u001b[0m\u001b[1;32m      2\u001b[0m \u001b[0;34m\u001b[0m\u001b[0m\n\u001b[1;32m      3\u001b[0m \u001b[0minput_image\u001b[0m \u001b[0;34m=\u001b[0m \u001b[0mcv2\u001b[0m\u001b[0;34m.\u001b[0m\u001b[0mimread\u001b[0m\u001b[0;34m(\u001b[0m\u001b[0minput_image_path\u001b[0m\u001b[0;34m)\u001b[0m\u001b[0;34m\u001b[0m\u001b[0;34m\u001b[0m\u001b[0m\n\u001b[1;32m      4\u001b[0m \u001b[0;34m\u001b[0m\u001b[0m\n\u001b[1;32m      5\u001b[0m \u001b[0mcv2_imshow\u001b[0m\u001b[0;34m(\u001b[0m\u001b[0minput_image\u001b[0m\u001b[0;34m)\u001b[0m\u001b[0;34m\u001b[0m\u001b[0;34m\u001b[0m\u001b[0m\n",
            "\u001b[0;32m/usr/local/lib/python3.10/dist-packages/ipykernel/kernelbase.py\u001b[0m in \u001b[0;36mraw_input\u001b[0;34m(self, prompt)\u001b[0m\n\u001b[1;32m    849\u001b[0m                 \u001b[0;34m\"raw_input was called, but this frontend does not support input requests.\"\u001b[0m\u001b[0;34m\u001b[0m\u001b[0;34m\u001b[0m\u001b[0m\n\u001b[1;32m    850\u001b[0m             )\n\u001b[0;32m--> 851\u001b[0;31m         return self._input_request(str(prompt),\n\u001b[0m\u001b[1;32m    852\u001b[0m             \u001b[0mself\u001b[0m\u001b[0;34m.\u001b[0m\u001b[0m_parent_ident\u001b[0m\u001b[0;34m,\u001b[0m\u001b[0;34m\u001b[0m\u001b[0;34m\u001b[0m\u001b[0m\n\u001b[1;32m    853\u001b[0m             \u001b[0mself\u001b[0m\u001b[0;34m.\u001b[0m\u001b[0m_parent_header\u001b[0m\u001b[0;34m,\u001b[0m\u001b[0;34m\u001b[0m\u001b[0;34m\u001b[0m\u001b[0m\n",
            "\u001b[0;32m/usr/local/lib/python3.10/dist-packages/ipykernel/kernelbase.py\u001b[0m in \u001b[0;36m_input_request\u001b[0;34m(self, prompt, ident, parent, password)\u001b[0m\n\u001b[1;32m    893\u001b[0m             \u001b[0;32mexcept\u001b[0m \u001b[0mKeyboardInterrupt\u001b[0m\u001b[0;34m:\u001b[0m\u001b[0;34m\u001b[0m\u001b[0;34m\u001b[0m\u001b[0m\n\u001b[1;32m    894\u001b[0m                 \u001b[0;31m# re-raise KeyboardInterrupt, to truncate traceback\u001b[0m\u001b[0;34m\u001b[0m\u001b[0;34m\u001b[0m\u001b[0m\n\u001b[0;32m--> 895\u001b[0;31m                 \u001b[0;32mraise\u001b[0m \u001b[0mKeyboardInterrupt\u001b[0m\u001b[0;34m(\u001b[0m\u001b[0;34m\"Interrupted by user\"\u001b[0m\u001b[0;34m)\u001b[0m \u001b[0;32mfrom\u001b[0m \u001b[0;32mNone\u001b[0m\u001b[0;34m\u001b[0m\u001b[0;34m\u001b[0m\u001b[0m\n\u001b[0m\u001b[1;32m    896\u001b[0m             \u001b[0;32mexcept\u001b[0m \u001b[0mException\u001b[0m \u001b[0;32mas\u001b[0m \u001b[0me\u001b[0m\u001b[0;34m:\u001b[0m\u001b[0;34m\u001b[0m\u001b[0;34m\u001b[0m\u001b[0m\n\u001b[1;32m    897\u001b[0m                 \u001b[0mself\u001b[0m\u001b[0;34m.\u001b[0m\u001b[0mlog\u001b[0m\u001b[0;34m.\u001b[0m\u001b[0mwarning\u001b[0m\u001b[0;34m(\u001b[0m\u001b[0;34m\"Invalid Message:\"\u001b[0m\u001b[0;34m,\u001b[0m \u001b[0mexc_info\u001b[0m\u001b[0;34m=\u001b[0m\u001b[0;32mTrue\u001b[0m\u001b[0;34m)\u001b[0m\u001b[0;34m\u001b[0m\u001b[0;34m\u001b[0m\u001b[0m\n",
            "\u001b[0;31mKeyboardInterrupt\u001b[0m: Interrupted by user"
          ]
        }
      ]
    }
  ]
}